{
  "nbformat": 4,
  "nbformat_minor": 0,
  "metadata": {
    "colab": {
      "provenance": [],
      "collapsed_sections": []
    },
    "kernelspec": {
      "name": "python3",
      "display_name": "Python 3"
    },
    "language_info": {
      "name": "python"
    },
    "accelerator": "GPU"
  },
  "cells": [
    {
      "cell_type": "markdown",
      "source": [
        "## CNN 알고리즘\n",
        "- 딥러닝의 꽃!\n",
        "- 다층 신경망의 기본적인 계산 방식은 각 뉴런 1개씩 계산, 반면에 CNN은 필터(커널)를 활용하여 계산\n",
        "- 파급효과 \n",
        "  + (은행) 손글씨 판별기를 만듦 / 상업화 성공\n",
        "  + 다양한 아류(개선된) 논문들이 쏟아져 나오기 시작\n",
        "  + 1998년도, LeNet\n",
        "  + 2012년도, AlexNet\n",
        "  + ... VGGNet, GoogLeNet\n",
        "  +2015 년도 ResNet 성능이 사람을 능가하기 시작 -> 영상인식 알고리즘 발전에 도움을 주기 시작"
      ],
      "metadata": {
        "id": "pHh5cdyBCLNS"
      }
    },
    {
      "cell_type": "markdown",
      "source": [
        "## 패션 MNIST 데이터 불러오기\n"
      ],
      "metadata": {
        "id": "xedRcPKeo3-0"
      }
    },
    {
      "cell_type": "code",
      "execution_count": null,
      "metadata": {
        "colab": {
          "base_uri": "https://localhost:8080/"
        },
        "id": "_sJx_cxxB5ar",
        "outputId": "1d98a505-efdf-4752-da40-898f4aa3b3aa"
      },
      "outputs": [
        {
          "output_type": "stream",
          "name": "stdout",
          "text": [
            "Downloading data from https://storage.googleapis.com/tensorflow/tf-keras-datasets/train-labels-idx1-ubyte.gz\n",
            "29515/29515 [==============================] - 0s 0us/step\n",
            "Downloading data from https://storage.googleapis.com/tensorflow/tf-keras-datasets/train-images-idx3-ubyte.gz\n",
            "26421880/26421880 [==============================] - 0s 0us/step\n",
            "Downloading data from https://storage.googleapis.com/tensorflow/tf-keras-datasets/t10k-labels-idx1-ubyte.gz\n",
            "5148/5148 [==============================] - 0s 0us/step\n",
            "Downloading data from https://storage.googleapis.com/tensorflow/tf-keras-datasets/t10k-images-idx3-ubyte.gz\n",
            "4422102/4422102 [==============================] - 0s 0us/step\n"
          ]
        },
        {
          "output_type": "execute_result",
          "data": {
            "text/plain": [
              "((60000, 28, 28), (60000,), (10000, 28, 28), (10000,))"
            ]
          },
          "metadata": {},
          "execution_count": 1
        }
      ],
      "source": [
        "from tensorflow import keras\n",
        "from sklearn.model_selection import train_test_split\n",
        "\n",
        "(train_input, train_target), (test_input, test_target) =\\\n",
        "  keras.datasets.fashion_mnist.load_data()\n",
        "\n",
        "train_input.shape, train_target.shape, test_input.shape, test_target.shape"
      ]
    },
    {
      "cell_type": "markdown",
      "source": [
        "- 기존 신경망 1차원 배열로 재정렬\n",
        "- 합성곱 신경망에서는 3차원 배열을 유지해야함. \n",
        "- 흑백이미지인 경우도 3차원 배열로 만들어야함.\n"
      ],
      "metadata": {
        "id": "oMf2Oq6dphW0"
      }
    },
    {
      "cell_type": "code",
      "source": [
        "train_scaled = train_input.reshape(-1, 28, 28, 1) / 255.0  # 정규화\n",
        "train_scaled.shape #(1을 추가함으로써 3차원배열로 만들었음)"
      ],
      "metadata": {
        "colab": {
          "base_uri": "https://localhost:8080/"
        },
        "id": "ireLPQFsqD3l",
        "outputId": "c78f6114-fdeb-4fc8-ce0a-975b89b6ef4a"
      },
      "execution_count": null,
      "outputs": [
        {
          "output_type": "execute_result",
          "data": {
            "text/plain": [
              "(60000, 28, 28, 1)"
            ]
          },
          "metadata": {},
          "execution_count": 2
        }
      ]
    },
    {
      "cell_type": "markdown",
      "source": [
        "## 데이터셋 분리"
      ],
      "metadata": {
        "id": "RaVj9Ngnquj0"
      }
    },
    {
      "cell_type": "code",
      "source": [
        "train_scaled, val_scaled, train_target, val_target = train_test_split(\n",
        "    train_scaled, train_target, test_size=0.2, random_state = 42\n",
        ")\n",
        "\n",
        "train_scaled.shape, val_scaled.shape"
      ],
      "metadata": {
        "colab": {
          "base_uri": "https://localhost:8080/"
        },
        "id": "n2cniVVzqOOr",
        "outputId": "87172774-5780-4349-ddfb-cd202b8258da"
      },
      "execution_count": null,
      "outputs": [
        {
          "output_type": "execute_result",
          "data": {
            "text/plain": [
              "((48000, 28, 28, 1), (12000, 28, 28, 1))"
            ]
          },
          "metadata": {},
          "execution_count": 3
        }
      ]
    },
    {
      "cell_type": "markdown",
      "source": [
        "## 합성곱 신경망 만들기\n",
        "- 기본 코드의 컨셉은 다층 신경망 구현할 때와 같음"
      ],
      "metadata": {
        "id": "TrbIsBtGq_VV"
      }
    },
    {
      "cell_type": "code",
      "source": [
        "model = keras.Sequential()\n",
        "\n",
        "#3차원\n",
        "                          #32개의 필터, 커널사이즈 = 3*3 배열           padding은 맞지 않아 남는 공간을 same으로 채워준다는 뜻\n",
        "model.add(keras.layers.Conv2D(32, kernel_size = 3, activation = 'relu', padding = 'same', input_shape = (28, 28, 1)))\n",
        "\n",
        "model.add(keras.layers.MaxPooling2D(2))\n",
        "\n",
        "model.add(keras.layers.Conv2D(64, kernel_size = 3, activation = 'relu', padding = 'same'))\n",
        "\n",
        "model.add(keras.layers.MaxPooling2D(2))\n",
        "\n",
        "#1차원\n",
        "model.add(keras.layers.Flatten()) #3차원을 1차원으로 바꿔주는 함수 Flatten()\n",
        "model.add(keras.layers.Dense(100, activation='relu'))\n",
        "model.add(keras.layers.Dropout(0.4))\n",
        "model.add(keras.layers.Dense(10, activation='softmax'))\n",
        "\n",
        "model.summary()"
      ],
      "metadata": {
        "colab": {
          "base_uri": "https://localhost:8080/"
        },
        "id": "ARUda8vvrBc7",
        "outputId": "dfcc3648-ac05-490d-f48f-fd7cf51a73c8"
      },
      "execution_count": null,
      "outputs": [
        {
          "output_type": "stream",
          "name": "stdout",
          "text": [
            "Model: \"sequential\"\n",
            "_________________________________________________________________\n",
            " Layer (type)                Output Shape              Param #   \n",
            "=================================================================\n",
            " conv2d (Conv2D)             (None, 28, 28, 32)        320       \n",
            "                                                                 \n",
            " max_pooling2d (MaxPooling2D  (None, 14, 14, 32)       0         \n",
            " )                                                               \n",
            "                                                                 \n",
            " conv2d_1 (Conv2D)           (None, 14, 14, 64)        18496     \n",
            "                                                                 \n",
            " max_pooling2d_1 (MaxPooling  (None, 7, 7, 64)         0         \n",
            " 2D)                                                             \n",
            "                                                                 \n",
            " flatten (Flatten)           (None, 3136)              0         \n",
            "                                                                 \n",
            " dense (Dense)               (None, 100)               313700    \n",
            "                                                                 \n",
            " dropout (Dropout)           (None, 100)               0         \n",
            "                                                                 \n",
            " dense_1 (Dense)             (None, 10)                1010      \n",
            "                                                                 \n",
            "=================================================================\n",
            "Total params: 333,526\n",
            "Trainable params: 333,526\n",
            "Non-trainable params: 0\n",
            "_________________________________________________________________\n"
          ]
        }
      ]
    },
    {
      "cell_type": "markdown",
      "source": [
        "원본 이미지\n",
        "-- Conv2D  ....  MaxPooling  : 표본 샘플이 만들어짐"
      ],
      "metadata": {
        "id": "57d73EDBrqGM"
      }
    },
    {
      "cell_type": "code",
      "source": [
        "keras.utils.plot_model(model)"
      ],
      "metadata": {
        "colab": {
          "base_uri": "https://localhost:8080/",
          "height": 856
        },
        "id": "aD5vi-pVvPxT",
        "outputId": "3fe86d3d-b91b-41bd-d774-2f82755ff40a"
      },
      "execution_count": null,
      "outputs": [
        {
          "output_type": "execute_result",
          "data": {
            "image/png": "[encoded data removed]",
            "text/plain": [
              "<IPython.core.display.Image object>"
            ]
          },
          "metadata": {},
          "execution_count": 5
        }
      ]
    },
    {
      "cell_type": "markdown",
      "source": [
        "## 모형 훈련"
      ],
      "metadata": {
        "id": "4aBjXBJuvbzk"
      }
    },
    {
      "cell_type": "code",
      "source": [
        "model.compile(optimizer='adam', loss='sparse_categorical_crossentropy', \n",
        "              metrics='accuracy')"
      ],
      "metadata": {
        "id": "3cthPtZnva86"
      },
      "execution_count": null,
      "outputs": []
    },
    {
      "cell_type": "markdown",
      "source": [
        "## 모델 저장\n",
        "- 파이썬에서는 모델을 저장한다. 그러나 자바에서는 쉽게 불러올 수 없다.\n",
        "- 별도의 작업이 필요하다.\n",
        "  + API 구성 혹은 Embeded형태로 코드 구현 등등 의 방법이 필요함."
      ],
      "metadata": {
        "id": "b930k-iXvkhq"
      }
    },
    {
      "cell_type": "code",
      "source": [
        "checkpoint_cb = keras.callbacks.ModelCheckpoint('best-cnn-model.h5', save_best_only=True)\n",
        "\n",
        "early_stopping_cb = keras.callbacks.EarlyStopping(patience=2, restore_best_weights=True)\n",
        "\n",
        "history = model.fit(train_scaled, train_target, epochs = 50, validation_data = (val_scaled, val_target), callbacks=[checkpoint_cb, early_stopping_cb])"
      ],
      "metadata": {
        "colab": {
          "base_uri": "https://localhost:8080/"
        },
        "id": "omtiBTCgwMuE",
        "outputId": "b5f9e3dc-8666-4fae-bff9-5d6cb9662ea8"
      },
      "execution_count": null,
      "outputs": [
        {
          "output_type": "stream",
          "name": "stdout",
          "text": [
            "Epoch 1/50\n",
            "1500/1500 [==============================] - 15s 4ms/step - loss: 0.5215 - accuracy: 0.8140 - val_loss: 0.3258 - val_accuracy: 0.8777\n",
            "Epoch 2/50\n",
            "1500/1500 [==============================] - 6s 4ms/step - loss: 0.3469 - accuracy: 0.8763 - val_loss: 0.2789 - val_accuracy: 0.8951\n",
            "Epoch 3/50\n",
            "1500/1500 [==============================] - 6s 4ms/step - loss: 0.2975 - accuracy: 0.8912 - val_loss: 0.2675 - val_accuracy: 0.8998\n",
            "Epoch 4/50\n",
            "1500/1500 [==============================] - 6s 4ms/step - loss: 0.2642 - accuracy: 0.9033 - val_loss: 0.2513 - val_accuracy: 0.9058\n",
            "Epoch 5/50\n",
            "1500/1500 [==============================] - 6s 4ms/step - loss: 0.2428 - accuracy: 0.9110 - val_loss: 0.2435 - val_accuracy: 0.9137\n",
            "Epoch 6/50\n",
            "1500/1500 [==============================] - 6s 4ms/step - loss: 0.2246 - accuracy: 0.9183 - val_loss: 0.2261 - val_accuracy: 0.9147\n",
            "Epoch 7/50\n",
            "1500/1500 [==============================] - 6s 4ms/step - loss: 0.2090 - accuracy: 0.9227 - val_loss: 0.2341 - val_accuracy: 0.9154\n",
            "Epoch 8/50\n",
            "1500/1500 [==============================] - 6s 4ms/step - loss: 0.1907 - accuracy: 0.9294 - val_loss: 0.2320 - val_accuracy: 0.9188\n"
          ]
        }
      ]
    },
    {
      "cell_type": "markdown",
      "source": [
        "## 모형 평가 그래프를 작성한다."
      ],
      "metadata": {
        "id": "7rSDFQfx2-Dp"
      }
    },
    {
      "cell_type": "code",
      "source": [
        "import matplotlib.pyplot as plt\n",
        "def eval_graph(history):\n",
        "  plt.plot(history.history['loss'])\n",
        "  plt.plot(history.history['val_loss'])\n",
        "  plt.xlabel('epoch')\n",
        "  plt.ylabel('loss')\n",
        "  plt.legend(['train', 'validation'])\n",
        "  plt.show()\n",
        "\n",
        "eval_graph(history)"
      ],
      "metadata": {
        "colab": {
          "base_uri": "https://localhost:8080/",
          "height": 279
        },
        "id": "X3ldGVme3A5p",
        "outputId": "9c10f1ba-4ae9-445b-aa77-8c84c5f30e5e"
      },
      "execution_count": null,
      "outputs": [
        {
          "output_type": "display_data",
          "data": {
            "text/plain": [
              "<Figure size 432x288 with 1 Axes>"
            ],
            "image/png": "[encoded data removed]"
          },
          "metadata": {
            "needs_background": "light"
          }
        }
      ]
    },
    {
      "cell_type": "code",
      "source": [
        "model.evaluate(val_scaled, val_target)"
      ],
      "metadata": {
        "colab": {
          "base_uri": "https://localhost:8080/"
        },
        "id": "TR1_YFpV3poa",
        "outputId": "061d2ce5-fbe9-4dc0-dc83-f8d5b5eb2e79"
      },
      "execution_count": null,
      "outputs": [
        {
          "output_type": "stream",
          "name": "stdout",
          "text": [
            "375/375 [==============================] - 1s 2ms/step - loss: 0.2261 - accuracy: 0.9147\n"
          ]
        },
        {
          "output_type": "execute_result",
          "data": {
            "text/plain": [
              "[0.22610196471214294, 0.9146666526794434]"
            ]
          },
          "metadata": {},
          "execution_count": 10
        }
      ]
    },
    {
      "cell_type": "markdown",
      "source": [
        "## 저장된 모델을 불러온다."
      ],
      "metadata": {
        "id": "OO7pEJon3mep"
      }
    },
    {
      "cell_type": "code",
      "source": [
        "model2 = keras.models.load_model('/content/best-cnn-model.h5')\n",
        "model2.summary()"
      ],
      "metadata": {
        "colab": {
          "base_uri": "https://localhost:8080/"
        },
        "id": "WrC07hN53Dk7",
        "outputId": "80dc7d3e-1564-432e-e514-c7087749b450"
      },
      "execution_count": null,
      "outputs": [
        {
          "output_type": "stream",
          "name": "stdout",
          "text": [
            "Model: \"sequential\"\n",
            "_________________________________________________________________\n",
            " Layer (type)                Output Shape              Param #   \n",
            "=================================================================\n",
            " conv2d (Conv2D)             (None, 28, 28, 32)        320       \n",
            "                                                                 \n",
            " max_pooling2d (MaxPooling2D  (None, 14, 14, 32)       0         \n",
            " )                                                               \n",
            "                                                                 \n",
            " conv2d_1 (Conv2D)           (None, 14, 14, 64)        18496     \n",
            "                                                                 \n",
            " max_pooling2d_1 (MaxPooling  (None, 7, 7, 64)         0         \n",
            " 2D)                                                             \n",
            "                                                                 \n",
            " flatten (Flatten)           (None, 3136)              0         \n",
            "                                                                 \n",
            " dense (Dense)               (None, 100)               313700    \n",
            "                                                                 \n",
            " dropout (Dropout)           (None, 100)               0         \n",
            "                                                                 \n",
            " dense_1 (Dense)             (None, 10)                1010      \n",
            "                                                                 \n",
            "=================================================================\n",
            "Total params: 333,526\n",
            "Trainable params: 333,526\n",
            "Non-trainable params: 0\n",
            "_________________________________________________________________\n"
          ]
        }
      ]
    },
    {
      "cell_type": "code",
      "source": [
        "model2.evaluate(val_scaled, val_target)"
      ],
      "metadata": {
        "colab": {
          "base_uri": "https://localhost:8080/"
        },
        "id": "AvBdBBC04Pq5",
        "outputId": "4dfa81f8-2925-421a-d597-b7b13ef00ce0"
      },
      "execution_count": null,
      "outputs": [
        {
          "output_type": "stream",
          "name": "stdout",
          "text": [
            "375/375 [==============================] - 1s 3ms/step - loss: 0.2261 - accuracy: 0.9147\n"
          ]
        },
        {
          "output_type": "execute_result",
          "data": {
            "text/plain": [
              "[0.22610196471214294, 0.9146666526794434]"
            ]
          },
          "metadata": {},
          "execution_count": 12
        }
      ]
    }
  ]
}