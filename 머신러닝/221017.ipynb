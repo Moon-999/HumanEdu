{
  "nbformat": 4,
  "nbformat_minor": 0,
  "metadata": {
    "colab": {
      "provenance": [],
      "collapsed_sections": []
    },
    "kernelspec": {
      "name": "python3",
      "display_name": "Python 3"
    },
    "language_info": {
      "name": "python"
    }
  },
  "cells": [
    {
      "cell_type": "markdown",
      "source": [
        "## 생선 분류 문제\n",
        "- 도미, 빙어"
      ],
      "metadata": {
        "id": "m7f8H-xtrmTz"
      }
    },
    {
      "cell_type": "code",
      "execution_count": null,
      "metadata": {
        "id": "CIvAiCZ2RX8c"
      },
      "outputs": [],
      "source": [
        "#도미\n",
        "bream_length = [25.4, 26.3, 26.5, 29.0, 29.0, 29.7, 29.7, 30.0, 30.0, 30.7, 31.0, 31.0, 31.5, 32.0, 32.0, 32.0, 33.0, 33.0, 33.5, 33.5, 34.0, 34.0, 34.5, 35.0, 35.0, 35.0, 35.0, 36.0, 36.0, 37.0, 38.5, 38.5, 39.5, 41.0, 41.0]\n",
        "bream_weight = [242.0, 290.0, 340.0, 363.0, 430.0, 450.0, 500.0, 390.0, 450.0, 500.0, 475.0, 500.0, 500.0, 340.0, 600.0, 600.0, 700.0, 700.0, 610.0, 650.0, 575.0, 685.0, 620.0, 680.0, 700.0, 725.0, 720.0, 714.0, 850.0, 1000.0, 920.0, 955.0, 925.0, 975.0, 950.0]\n",
        "\n",
        "#빙어\n",
        "smelt_length = [9.8, 10.5, 10.6, 11.0, 11.2, 11.3, 11.8, 11.8, 12.0, 12.2, 12.4, 13.0, 14.3, 15.0]\n",
        "smelt_weight = [6.7, 7.5, 7.0, 9.7, 9.8, 8.7, 10.0, 9.9, 9.8, 12.2, 13.4, 12.2, 19.7, 19.9]"
      ]
    },
    {
      "cell_type": "markdown",
      "source": [
        "- 전체데이터 길이확인"
      ],
      "metadata": {
        "id": "FxdpTAZSvqvC"
      }
    },
    {
      "cell_type": "code",
      "source": [
        "print(len(bream_length), len(smelt_length))\n",
        "#도미 35개, 빙어 14개"
      ],
      "metadata": {
        "colab": {
          "base_uri": "https://localhost:8080/"
        },
        "id": "puCbTt4Wvs_K",
        "outputId": "b534ca45-723e-4ef5-da04-6c921e073642"
      },
      "execution_count": null,
      "outputs": [
        {
          "output_type": "stream",
          "name": "stdout",
          "text": [
            "35 14\n"
          ]
        }
      ]
    },
    {
      "cell_type": "markdown",
      "source": [
        "## 데이터 시각화"
      ],
      "metadata": {
        "id": "bhVv2NiOsCtD"
      }
    },
    {
      "cell_type": "code",
      "source": [
        "import matplotlib. pyplot as plt\n",
        "fig, ax = plt.subplots(figsize=(10,6))\n",
        "ax.scatter(bream_length, bream_weight)\n",
        "ax.scatter(smelt_length, smelt_weight)\n",
        "ax.set_xlabel('length')\n",
        "ax.set_ylabel('weight')\n",
        "\n",
        "plt.show()"
      ],
      "metadata": {
        "colab": {
          "base_uri": "https://localhost:8080/",
          "height": 388
        },
        "id": "sLRDo3jfsA5L",
        "outputId": "de0da8ed-db11-40c6-90da-201312cf3e91"
      },
      "execution_count": null,
      "outputs": [
        {
          "output_type": "display_data",
          "data": {
            "text/plain": [
              "<Figure size 720x432 with 1 Axes>"
            ],
            "image/png": "[encoded data removed]"
          },
          "metadata": {
            "needs_background": "light"
          }
        }
      ]
    },
    {
      "cell_type": "markdown",
      "source": [
        "- 전체데이터 만들기"
      ],
      "metadata": {
        "id": "CckEpfgKtRl6"
      }
    },
    {
      "cell_type": "code",
      "source": [
        "length = bream_length + smelt_length\n",
        "weight = bream_weight + smelt_weight\n",
        "\n",
        "print(len(length), len(weight))\n"
      ],
      "metadata": {
        "colab": {
          "base_uri": "https://localhost:8080/"
        },
        "id": "QqNdNo4YtUHC",
        "outputId": "b5cd2299-2876-400e-8cd5-dbc91ff9fed3"
      },
      "execution_count": null,
      "outputs": [
        {
          "output_type": "stream",
          "name": "stdout",
          "text": [
            "49 49\n"
          ]
        }
      ]
    },
    {
      "cell_type": "markdown",
      "source": [
        "### 리스트 컴프리헨션 ( List Comprehension)\n",
        "- 반복문(조건문 포함)을 1줄로 처리\n",
        "- 반환값은 리스트"
      ],
      "metadata": {
        "id": "d0inqusIt8SD"
      }
    },
    {
      "cell_type": "code",
      "source": [
        "temp_text = \"humanEdu\"\n",
        "human_letters = []\n",
        "for letter in temp_text:\n",
        "  human_letters.append(letter)\n",
        "\n",
        "print(human_letters)"
      ],
      "metadata": {
        "colab": {
          "base_uri": "https://localhost:8080/"
        },
        "id": "Yad-CwizuIwS",
        "outputId": "cabcb6ab-2875-4353-b004-5a170d8221c0"
      },
      "execution_count": null,
      "outputs": [
        {
          "output_type": "stream",
          "name": "stdout",
          "text": [
            "['h', 'u', 'm', 'a', 'n', 'E', 'd', 'u']\n"
          ]
        }
      ]
    },
    {
      "cell_type": "code",
      "source": [
        "temp_text = \"humanEdu\"\n",
        "human_letters = [letter for letter in temp_text]\n",
        "\n",
        "print(human_letters)"
      ],
      "metadata": {
        "colab": {
          "base_uri": "https://localhost:8080/"
        },
        "id": "ylxFoJneuh9S",
        "outputId": "ca93a169-a4ec-4215-d9ed-1efc0b9f0f9c"
      },
      "execution_count": null,
      "outputs": [
        {
          "output_type": "stream",
          "name": "stdout",
          "text": [
            "['h', 'u', 'm', 'a', 'n', 'E', 'd', 'u']\n"
          ]
        }
      ]
    },
    {
      "cell_type": "code",
      "source": [
        "fish_data = [[l, w] for l, w in zip(length, weight)]\n",
        "\n",
        "print(fish_data)"
      ],
      "metadata": {
        "colab": {
          "base_uri": "https://localhost:8080/"
        },
        "id": "fZWr_NOEtuPc",
        "outputId": "e22d672c-aee5-45c0-f5ef-b25e39eaeecc"
      },
      "execution_count": null,
      "outputs": [
        {
          "output_type": "stream",
          "name": "stdout",
          "text": [
            "[[25.4, 242.0], [26.3, 290.0], [26.5, 340.0], [29.0, 363.0], [29.0, 430.0], [29.7, 450.0], [29.7, 500.0], [30.0, 390.0], [30.0, 450.0], [30.7, 500.0], [31.0, 475.0], [31.0, 500.0], [31.5, 500.0], [32.0, 340.0], [32.0, 600.0], [32.0, 600.0], [33.0, 700.0], [33.0, 700.0], [33.5, 610.0], [33.5, 650.0], [34.0, 575.0], [34.0, 685.0], [34.5, 620.0], [35.0, 680.0], [35.0, 700.0], [35.0, 725.0], [35.0, 720.0], [36.0, 714.0], [36.0, 850.0], [37.0, 1000.0], [38.5, 920.0], [38.5, 955.0], [39.5, 925.0], [41.0, 975.0], [41.0, 950.0], [9.8, 6.7], [10.5, 7.5], [10.6, 7.0], [11.0, 9.7], [11.2, 9.8], [11.3, 8.7], [11.8, 10.0], [11.8, 9.9], [12.0, 9.8], [12.2, 12.2], [12.4, 13.4], [13.0, 12.2], [14.3, 19.7], [15.0, 19.9]]\n"
          ]
        }
      ]
    },
    {
      "cell_type": "markdown",
      "source": [
        "- 지도학습은 라벨이 필요하다. \n",
        "--> 종속변수, 타겟변수 (Response Variable , Dependent Variable)"
      ],
      "metadata": {
        "id": "IgiqJCbVvWBw"
      }
    },
    {
      "cell_type": "code",
      "source": [
        "#도미 35개를 1로 표시\n",
        "#빙어 14개를 0로 표시\n",
        "fish_target = [1] * 35 + [0] * 14\n",
        "print(fish_target)"
      ],
      "metadata": {
        "colab": {
          "base_uri": "https://localhost:8080/"
        },
        "id": "OpiDpFWWvozi",
        "outputId": "6ac3699f-e832-46a7-cd7d-a5875f833d78"
      },
      "execution_count": null,
      "outputs": [
        {
          "output_type": "stream",
          "name": "stdout",
          "text": [
            "[1, 1, 1, 1, 1, 1, 1, 1, 1, 1, 1, 1, 1, 1, 1, 1, 1, 1, 1, 1, 1, 1, 1, 1, 1, 1, 1, 1, 1, 1, 1, 1, 1, 1, 1, 0, 0, 0, 0, 0, 0, 0, 0, 0, 0, 0, 0, 0, 0]\n"
          ]
        }
      ]
    },
    {
      "cell_type": "markdown",
      "source": [
        "## 머신러닝 모형 구현\n",
        "- KNN 구현"
      ],
      "metadata": {
        "id": "Tb9vTAOswUtq"
      }
    },
    {
      "cell_type": "code",
      "source": [
        "#아래와 같은 명령(아래 명령이 더 좋음)\n",
        "import sklearn\n",
        "kn = sklearn.neighbors.KNeighborsClassifier()"
      ],
      "metadata": {
        "id": "DXJO9ZEozP5J"
      },
      "execution_count": null,
      "outputs": []
    },
    {
      "cell_type": "code",
      "source": [
        "from sklearn.neighbors import KNeighborsClassifier\n",
        "\n",
        "#모형 불러오기\n",
        "kn = KNeighborsClassifier()\n",
        "#모형 학습\n",
        "kn.fit(fish_data, fish_target)"
      ],
      "metadata": {
        "colab": {
          "base_uri": "https://localhost:8080/"
        },
        "id": "Afbcwi4ZwSb6",
        "outputId": "ecb12423-4a92-403e-e143-36faa58a477d"
      },
      "execution_count": null,
      "outputs": [
        {
          "output_type": "execute_result",
          "data": {
            "text/plain": [
              "KNeighborsClassifier()"
            ]
          },
          "metadata": {},
          "execution_count": 18
        }
      ]
    },
    {
      "cell_type": "code",
      "source": [
        "#모형 평가\n",
        "kn.score(fish_data, fish_target)\n",
        "#1.0 => 100%의 정확도"
      ],
      "metadata": {
        "colab": {
          "base_uri": "https://localhost:8080/"
        },
        "id": "kKDpk5tAz4iC",
        "outputId": "d4f5f093-41d1-4956-f836-326a872b1464"
      },
      "execution_count": null,
      "outputs": [
        {
          "output_type": "execute_result",
          "data": {
            "text/plain": [
              "1.0"
            ]
          },
          "metadata": {},
          "execution_count": 19
        }
      ]
    },
    {
      "cell_type": "code",
      "source": [
        "#예측(=배포)\n",
        "new_data = [[30, 600]]\n",
        "kn.predict(new_data) #도미로 예측함"
      ],
      "metadata": {
        "colab": {
          "base_uri": "https://localhost:8080/"
        },
        "id": "DLMYUos6zhYp",
        "outputId": "26d7a985-6d71-4983-df55-d09386db51cb"
      },
      "execution_count": null,
      "outputs": [
        {
          "output_type": "execute_result",
          "data": {
            "text/plain": [
              "array([1])"
            ]
          },
          "metadata": {},
          "execution_count": 20
        }
      ]
    },
    {
      "cell_type": "code",
      "source": [
        "import matplotlib. pyplot as plt\n",
        "fig, ax = plt.subplots(figsize=(10,6))\n",
        "ax.scatter(bream_length, bream_weight)\n",
        "ax.scatter(smelt_length, smelt_weight)\n",
        "ax.scatter(30, 600, marker='^')\n",
        "ax.set_xlabel('length')\n",
        "ax.set_ylabel('weight')\n",
        "\n",
        "plt.show()"
      ],
      "metadata": {
        "colab": {
          "base_uri": "https://localhost:8080/",
          "height": 388
        },
        "id": "_t3wiPIx0_BZ",
        "outputId": "35076b2f-74ad-446a-9439-1384094326da"
      },
      "execution_count": null,
      "outputs": [
        {
          "output_type": "display_data",
          "data": {
            "text/plain": [
              "<Figure size 720x432 with 1 Axes>"
            ],
            "image/png": "[encoded data removed]"
          },
          "metadata": {
            "needs_background": "light"
          }
        }
      ]
    },
    {
      "cell_type": "code",
      "source": [
        "from sklearn.neighbors import KNeighborsClassifier\n",
        "\n",
        "#모형 불러오기\n",
        "kn = KNeighborsClassifier(n_neighbors = 20)\n",
        "# n_neighbors(매개변수)를 따로 입력하는 것은 높은 지식을 요구함\n",
        "\n",
        "#모형 학습\n",
        "kn.fit(fish_data, fish_target)\n",
        "\n",
        "#모형 평가\n",
        "kn.score(fish_data, fish_target)\n",
        "#0.71 => 71% 정확도 의미"
      ],
      "metadata": {
        "colab": {
          "base_uri": "https://localhost:8080/"
        },
        "id": "sPLt6999SLbd",
        "outputId": "6106c284-42d0-4942-b227-9e4a233a28ee"
      },
      "execution_count": 25,
      "outputs": [
        {
          "output_type": "execute_result",
          "data": {
            "text/plain": [
              "0.9795918367346939"
            ]
          },
          "metadata": {},
          "execution_count": 25
        }
      ]
    },
    {
      "cell_type": "code",
      "source": [
        "for n in range(5, 49):\n",
        "  #최근접 이웃 개수 설정\n",
        "  kn.n_neighbors = n\n",
        "\n",
        "  #스코어 계산\n",
        "  score = kn.score(fish_data, fish_target)\n",
        "\n",
        "  #1.0(100%)에 미치지 못하는 이웃개수 경계선 구하기\n",
        "  if score < 1:\n",
        "    print(n, score)\n",
        "    break"
      ],
      "metadata": {
        "colab": {
          "base_uri": "https://localhost:8080/"
        },
        "id": "0lGOlsS-TpKl",
        "outputId": "1472d80a-e284-4f4e-ae13-ce1eae11290b"
      },
      "execution_count": 29,
      "outputs": [
        {
          "output_type": "stream",
          "name": "stdout",
          "text": [
            "18 0.9795918367346939\n"
          ]
        }
      ]
    },
    {
      "cell_type": "markdown",
      "source": [
        "## 머신러닝 중요 메서드\n",
        "- fit() : 훈련시 사용하는 메서드, 두개의 데이터가 들어감. \n",
        "  + 독립변수 : fish_data(길이, 몸무게)\n",
        "  + 종속변수 : fish_target\n",
        "- predict() : 예측할 때 사용\n",
        "  + 새로운 데이터 : 독립변수만 추가\n",
        "\n",
        "- score() : 모형의 성능 평가\n",
        "  + 실전 - 평가지표 함수를 사용!"
      ],
      "metadata": {
        "id": "VDgkwectUnfW"
      }
    },
    {
      "cell_type": "markdown",
      "source": [
        "## 훈련 세트와 테스트 세트\n",
        "- 기존 모델의 문제점\n",
        "- 예측값, 평가지표 산출 시, 100%\n",
        "- 훈련 세트 : 훈련 시에 사용되는 데이터\n",
        "- 테스트 세트 : 평가 시에 사용되는 데이터"
      ],
      "metadata": {
        "id": "opFiW6IUWKkj"
      }
    },
    {
      "cell_type": "code",
      "source": [
        "fish_data[:5]"
      ],
      "metadata": {
        "colab": {
          "base_uri": "https://localhost:8080/"
        },
        "id": "6zuUssaNYHa7",
        "outputId": "cafea9be-1cc9-4e1b-9889-a6f347828e61"
      },
      "execution_count": 30,
      "outputs": [
        {
          "output_type": "execute_result",
          "data": {
            "text/plain": [
              "[[25.4, 242.0], [26.3, 290.0], [26.5, 340.0], [29.0, 363.0], [29.0, 430.0]]"
            ]
          },
          "metadata": {},
          "execution_count": 30
        }
      ]
    },
    {
      "cell_type": "code",
      "source": [
        "fish_data[44:]"
      ],
      "metadata": {
        "colab": {
          "base_uri": "https://localhost:8080/"
        },
        "id": "7IrZJFDkYNHC",
        "outputId": "bc1d1efe-f365-4a53-8708-c38addbbec1c"
      },
      "execution_count": 31,
      "outputs": [
        {
          "output_type": "execute_result",
          "data": {
            "text/plain": [
              "[[12.2, 12.2], [12.4, 13.4], [13.0, 12.2], [14.3, 19.7], [15.0, 19.9]]"
            ]
          },
          "metadata": {},
          "execution_count": 31
        }
      ]
    },
    {
      "cell_type": "code",
      "source": [
        "train_input = fish_data[:35]\n",
        "train_target = fish_target[:35]\n",
        "\n",
        "test_input = fish_data[35:]\n",
        "test_target = fish_target[35:]\n"
      ],
      "metadata": {
        "id": "cVn6C3eLYRWK"
      },
      "execution_count": 32,
      "outputs": []
    },
    {
      "cell_type": "code",
      "source": [
        "\n",
        "print(train_input)\n",
        "print(train_target)\n",
        "#학습을 도미로 함\n",
        "print(test_input)\n",
        "print(test_target)\n",
        "#테스트는 빙어로 함"
      ],
      "metadata": {
        "colab": {
          "base_uri": "https://localhost:8080/"
        },
        "id": "KQ4aPn9nZx3r",
        "outputId": "30adf3d2-08d8-434f-9694-d900c84f1493"
      },
      "execution_count": 37,
      "outputs": [
        {
          "output_type": "stream",
          "name": "stdout",
          "text": [
            "[[25.4, 242.0], [26.3, 290.0], [26.5, 340.0], [29.0, 363.0], [29.0, 430.0], [29.7, 450.0], [29.7, 500.0], [30.0, 390.0], [30.0, 450.0], [30.7, 500.0], [31.0, 475.0], [31.0, 500.0], [31.5, 500.0], [32.0, 340.0], [32.0, 600.0], [32.0, 600.0], [33.0, 700.0], [33.0, 700.0], [33.5, 610.0], [33.5, 650.0], [34.0, 575.0], [34.0, 685.0], [34.5, 620.0], [35.0, 680.0], [35.0, 700.0], [35.0, 725.0], [35.0, 720.0], [36.0, 714.0], [36.0, 850.0], [37.0, 1000.0], [38.5, 920.0], [38.5, 955.0], [39.5, 925.0], [41.0, 975.0], [41.0, 950.0]]\n",
            "[1, 1, 1, 1, 1, 1, 1, 1, 1, 1, 1, 1, 1, 1, 1, 1, 1, 1, 1, 1, 1, 1, 1, 1, 1, 1, 1, 1, 1, 1, 1, 1, 1, 1, 1]\n",
            "[[9.8, 6.7], [10.5, 7.5], [10.6, 7.0], [11.0, 9.7], [11.2, 9.8], [11.3, 8.7], [11.8, 10.0], [11.8, 9.9], [12.0, 9.8], [12.2, 12.2], [12.4, 13.4], [13.0, 12.2], [14.3, 19.7], [15.0, 19.9]]\n",
            "[0, 0, 0, 0, 0, 0, 0, 0, 0, 0, 0, 0, 0, 0]\n"
          ]
        }
      ]
    },
    {
      "cell_type": "markdown",
      "source": [
        "- 모형 만들고, 모형 테스트\n",
        "- 왜 정확도가 0%인가?"
      ],
      "metadata": {
        "id": "3NaQ3u-IZZ8k"
      }
    },
    {
      "cell_type": "code",
      "source": [
        "kn = kn.fit(train_input, train_target)\n",
        "kn.score(test_input, test_target)"
      ],
      "metadata": {
        "colab": {
          "base_uri": "https://localhost:8080/"
        },
        "id": "cPkqyKVbZYU8",
        "outputId": "9a9eb3df-aee7-461d-db9e-a692e3545a40"
      },
      "execution_count": 33,
      "outputs": [
        {
          "output_type": "execute_result",
          "data": {
            "text/plain": [
              "0.0"
            ]
          },
          "metadata": {},
          "execution_count": 33
        }
      ]
    },
    {
      "cell_type": "markdown",
      "source": [
        "### 데이터 섞기\n"
      ],
      "metadata": {
        "id": "sLkZqQnmb5G7"
      }
    },
    {
      "cell_type": "code",
      "source": [
        "import numpy as np\n",
        "\n",
        "input_arr = np.array(fish_data)\n",
        "target_arr = np.array(fish_target)\n",
        "\n",
        "print(input_arr.shape)# 길이와 몸무게 \n",
        "print(target_arr.shape)#라벨"
      ],
      "metadata": {
        "colab": {
          "base_uri": "https://localhost:8080/"
        },
        "id": "nQPM3kvvb9XP",
        "outputId": "c3245bad-4c89-45b4-ff4c-2fab279b14de"
      },
      "execution_count": 41,
      "outputs": [
        {
          "output_type": "stream",
          "name": "stdout",
          "text": [
            "(49, 2)\n",
            "(49,)\n"
          ]
        }
      ]
    },
    {
      "cell_type": "markdown",
      "source": [
        "- 인덱스를 shuffle을 활용하여 섞기"
      ],
      "metadata": {
        "id": "g_dH5YidgCCR"
      }
    },
    {
      "cell_type": "code",
      "source": [
        "np.random.seed(42) #랜덤 고정\n",
        "index = np.arange(49)\n",
        "index"
      ],
      "metadata": {
        "colab": {
          "base_uri": "https://localhost:8080/"
        },
        "id": "j2V3ErZ0gBfy",
        "outputId": "a3d51e7d-ca7c-414a-9e60-b17faa59c446"
      },
      "execution_count": 42,
      "outputs": [
        {
          "output_type": "execute_result",
          "data": {
            "text/plain": [
              "array([ 0,  1,  2,  3,  4,  5,  6,  7,  8,  9, 10, 11, 12, 13, 14, 15, 16,\n",
              "       17, 18, 19, 20, 21, 22, 23, 24, 25, 26, 27, 28, 29, 30, 31, 32, 33,\n",
              "       34, 35, 36, 37, 38, 39, 40, 41, 42, 43, 44, 45, 46, 47, 48])"
            ]
          },
          "metadata": {},
          "execution_count": 42
        }
      ]
    },
    {
      "cell_type": "code",
      "source": [
        "np.random.shuffle(index)\n",
        "print(index)"
      ],
      "metadata": {
        "colab": {
          "base_uri": "https://localhost:8080/"
        },
        "id": "3r-WsBcsgVLa",
        "outputId": "97cf39d5-c956-4e54-cece-9a56171f7d66"
      },
      "execution_count": 43,
      "outputs": [
        {
          "output_type": "stream",
          "name": "stdout",
          "text": [
            "[13 45 47 44 17 27 26 25 31 19 12  4 34  8  3  6 40 41 46 15  9 16 24 33\n",
            " 30  0 43 32  5 29 11 36  1 21  2 37 35 23 39 10 22 18 48 20  7 42 14 28\n",
            " 38]\n"
          ]
        }
      ]
    },
    {
      "cell_type": "code",
      "source": [
        "train_input = input_arr[index[:35]]\n",
        "train_target = target_arr[index[:35]]\n",
        "\n",
        "train_target"
      ],
      "metadata": {
        "colab": {
          "base_uri": "https://localhost:8080/"
        },
        "id": "90bvCnLGhEMd",
        "outputId": "958b0810-f51a-4ceb-d235-18e4655ef033"
      },
      "execution_count": 44,
      "outputs": [
        {
          "output_type": "execute_result",
          "data": {
            "text/plain": [
              "array([1, 0, 0, 0, 1, 1, 1, 1, 1, 1, 1, 1, 1, 1, 1, 1, 0, 0, 0, 1, 1, 1,\n",
              "       1, 1, 1, 1, 0, 1, 1, 1, 1, 0, 1, 1, 1])"
            ]
          },
          "metadata": {},
          "execution_count": 44
        }
      ]
    },
    {
      "cell_type": "code",
      "source": [
        "test_input = input_arr[index[35:]]\n",
        "test_target = target_arr[index[35:]]\n",
        "\n",
        "test_target"
      ],
      "metadata": {
        "colab": {
          "base_uri": "https://localhost:8080/"
        },
        "id": "kjuGXdOAhVZZ",
        "outputId": "647039fa-4c8d-47b7-fd9c-66df0cda09b8"
      },
      "execution_count": 45,
      "outputs": [
        {
          "output_type": "execute_result",
          "data": {
            "text/plain": [
              "array([0, 0, 1, 0, 1, 1, 1, 0, 1, 1, 0, 1, 1, 0])"
            ]
          },
          "metadata": {},
          "execution_count": 45
        }
      ]
    },
    {
      "cell_type": "markdown",
      "source": [
        "- 적절하게 섞여 있는지 확인하는 시각화"
      ],
      "metadata": {
        "id": "m7P0xeoGhj6i"
      }
    },
    {
      "cell_type": "code",
      "source": [
        "import matplotlib. pyplot as plt\n",
        "fig, ax = plt.subplots(figsize=(10,6))\n",
        "ax.scatter(train_input[:, 0], train_input[:, 1])\n",
        "ax.scatter(test_input[:,0], test_input[:,1])\n",
        "\n",
        "ax.set_xlabel('length')\n",
        "ax.set_ylabel('weight')\n",
        "\n",
        "plt.show()\n",
        "# 노란색이 테스트, 파란색이 트레인"
      ],
      "metadata": {
        "colab": {
          "base_uri": "https://localhost:8080/",
          "height": 388
        },
        "id": "qLAYJLNrhjcR",
        "outputId": "2ea16005-cadb-4c2f-8dad-184e0030de45"
      },
      "execution_count": 47,
      "outputs": [
        {
          "output_type": "display_data",
          "data": {
            "text/plain": [
              "<Figure size 720x432 with 1 Axes>"
            ],
            "image/png": "[encoded data removed]"
          },
          "metadata": {
            "needs_background": "light"
          }
        }
      ]
    },
    {
      "cell_type": "markdown",
      "source": [
        "- 머신러닝 모형 개발"
      ],
      "metadata": {
        "id": "PQi2sLKtiZgL"
      }
    },
    {
      "cell_type": "code",
      "source": [
        "kn = KNeighborsClassifier(n_neighbors = 5)\n",
        "kn = kn.fit(train_input, train_target)\n",
        "kn.score(test_input, test_target)"
      ],
      "metadata": {
        "colab": {
          "base_uri": "https://localhost:8080/"
        },
        "id": "6e5CJUQvibr6",
        "outputId": "c7d64852-6eb4-4f85-d0a7-a51868216afe"
      },
      "execution_count": 48,
      "outputs": [
        {
          "output_type": "execute_result",
          "data": {
            "text/plain": [
              "1.0"
            ]
          },
          "metadata": {},
          "execution_count": 48
        }
      ]
    },
    {
      "cell_type": "code",
      "source": [
        "kn.predict(test_input)"
      ],
      "metadata": {
        "colab": {
          "base_uri": "https://localhost:8080/"
        },
        "id": "8KGRz58zi9t6",
        "outputId": "b1646dfa-2934-425f-8214-64b306b8a787"
      },
      "execution_count": 49,
      "outputs": [
        {
          "output_type": "execute_result",
          "data": {
            "text/plain": [
              "array([0, 0, 1, 0, 1, 1, 1, 0, 1, 1, 0, 1, 1, 0])"
            ]
          },
          "metadata": {},
          "execution_count": 49
        }
      ]
    },
    {
      "cell_type": "code",
      "source": [
        "test_target"
      ],
      "metadata": {
        "colab": {
          "base_uri": "https://localhost:8080/"
        },
        "id": "Wj0tcyBkjEVr",
        "outputId": "0b0d463b-acf0-4a0e-bd4e-05189ed1b2ca"
      },
      "execution_count": 50,
      "outputs": [
        {
          "output_type": "execute_result",
          "data": {
            "text/plain": [
              "array([0, 0, 1, 0, 1, 1, 1, 0, 1, 1, 0, 1, 1, 0])"
            ]
          },
          "metadata": {},
          "execution_count": 50
        }
      ]
    },
    {
      "cell_type": "markdown",
      "source": [
        "- 주요 함수\n",
        "  + seed() : 초깃값이 같으면 동일한 난수를 뽑는다. 실험 재현성( 반드시 써줘야함)\n",
        "  + shuffle : 주어진 배열을 랜덤하게 섞는다. "
      ],
      "metadata": {
        "id": "4xIHlZWKkV4L"
      }
    },
    {
      "cell_type": "markdown",
      "source": [
        "## Scikit-Learn 라이브러리를 활용한 세트 분리"
      ],
      "metadata": {
        "id": "exiceu0zk-9h"
      }
    },
    {
      "cell_type": "code",
      "source": [
        "fish_length = [25.4, 26.3, 26.5, 29.0, 29.0, 29.7, 29.7, 30.0, 30.0, 30.7, 31.0, 31.0, \n",
        "                31.5, 32.0, 32.0, 32.0, 33.0, 33.0, 33.5, 33.5, 34.0, 34.0, 34.5, 35.0, \n",
        "                35.0, 35.0, 35.0, 36.0, 36.0, 37.0, 38.5, 38.5, 39.5, 41.0, 41.0, 9.8, \n",
        "                10.5, 10.6, 11.0, 11.2, 11.3, 11.8, 11.8, 12.0, 12.2, 12.4, 13.0, 14.3, 15.0]\n",
        "fish_weight = [242.0, 290.0, 340.0, 363.0, 430.0, 450.0, 500.0, 390.0, 450.0, 500.0, 475.0, 500.0, \n",
        "                500.0, 340.0, 600.0, 600.0, 700.0, 700.0, 610.0, 650.0, 575.0, 685.0, 620.0, 680.0, \n",
        "                700.0, 725.0, 720.0, 714.0, 850.0, 1000.0, 920.0, 955.0, 925.0, 975.0, 950.0, 6.7, \n",
        "                7.5, 7.0, 9.7, 9.8, 8.7, 10.0, 9.9, 9.8, 12.2, 13.4, 12.2, 19.7, 19.9]"
      ],
      "metadata": {
        "id": "9gnM56tOk0JI"
      },
      "execution_count": 51,
      "outputs": []
    },
    {
      "cell_type": "code",
      "source": [
        "a_list = [1,2,3]\n",
        "b_list = [4,5,6]\n",
        "\n",
        "np.column_stack((a_list, b_list))"
      ],
      "metadata": {
        "colab": {
          "base_uri": "https://localhost:8080/"
        },
        "id": "jtkP-27_lMfp",
        "outputId": "dd98eb9c-32cb-4a02-918a-c1b0d40e3d51"
      },
      "execution_count": 53,
      "outputs": [
        {
          "output_type": "execute_result",
          "data": {
            "text/plain": [
              "array([[1, 4],\n",
              "       [2, 5],\n",
              "       [3, 6]])"
            ]
          },
          "metadata": {},
          "execution_count": 53
        }
      ]
    },
    {
      "cell_type": "code",
      "source": [
        "fish_data = np.column_stack((fish_length, fish_weight))\n",
        "print(fish_data[:5])"
      ],
      "metadata": {
        "colab": {
          "base_uri": "https://localhost:8080/"
        },
        "id": "JU4YCyW9liku",
        "outputId": "511757c5-811c-4ca6-e48d-e929d3dab464"
      },
      "execution_count": 54,
      "outputs": [
        {
          "output_type": "stream",
          "name": "stdout",
          "text": [
            "[[ 25.4 242. ]\n",
            " [ 26.3 290. ]\n",
            " [ 26.5 340. ]\n",
            " [ 29.  363. ]\n",
            " [ 29.  430. ]]\n"
          ]
        }
      ]
    },
    {
      "cell_type": "code",
      "source": [
        "fish_target = np.concatenate((np.ones(35), np.zeros(14)))\n",
        "[print(fish_target)]"
      ],
      "metadata": {
        "colab": {
          "base_uri": "https://localhost:8080/"
        },
        "id": "i9hmppJcmAEx",
        "outputId": "7245a498-4929-441b-a132-0c33f1f8ff76"
      },
      "execution_count": 55,
      "outputs": [
        {
          "output_type": "stream",
          "name": "stdout",
          "text": [
            "[1. 1. 1. 1. 1. 1. 1. 1. 1. 1. 1. 1. 1. 1. 1. 1. 1. 1. 1. 1. 1. 1. 1. 1.\n",
            " 1. 1. 1. 1. 1. 1. 1. 1. 1. 1. 1. 0. 0. 0. 0. 0. 0. 0. 0. 0. 0. 0. 0. 0.\n",
            " 0.]\n"
          ]
        },
        {
          "output_type": "execute_result",
          "data": {
            "text/plain": [
              "[None]"
            ]
          },
          "metadata": {},
          "execution_count": 55
        }
      ]
    },
    {
      "cell_type": "markdown",
      "source": [
        "- Scikit-Learn 라이브러리가 요구하는 input데이터 형태는 기본적으로 배열임.(리스트 아님)\n",
        "- 참조\n",
        "https://scikit-learn.org/stable/modules/generated/sklearn.model_selection.train_test_split.html#sklearn.model_selection.train_test_split\n"
      ],
      "metadata": {
        "id": "gUs7Rf5hmQFZ"
      }
    },
    {
      "cell_type": "code",
      "source": [
        "from sklearn.model_selection import train_test_split\n",
        "train_input, test_input, train_target, test_target = train_test_split(fish_data, fish_target, random_state=42)\n",
        "\n",
        "print(train_input.shape, train_target.shape)\n"
      ],
      "metadata": {
        "colab": {
          "base_uri": "https://localhost:8080/"
        },
        "id": "QlPR75ctmmSC",
        "outputId": "00e457da-ef1e-45c3-a1fb-e1e0fe88e7ad"
      },
      "execution_count": 58,
      "outputs": [
        {
          "output_type": "stream",
          "name": "stdout",
          "text": [
            "(36, 2) (36,)\n"
          ]
        }
      ]
    },
    {
      "cell_type": "code",
      "source": [
        "print(test_input.shape, test_target.shape)\n",
        "# train과 test의 갯수는 같아야함."
      ],
      "metadata": {
        "colab": {
          "base_uri": "https://localhost:8080/"
        },
        "id": "LWsuYeb8oG0J",
        "outputId": "6bbd2c14-6ad3-485d-a586-5d24c56e7cfd"
      },
      "execution_count": 57,
      "outputs": [
        {
          "output_type": "stream",
          "name": "stdout",
          "text": [
            "(13, 2) (13,)\n"
          ]
        }
      ]
    },
    {
      "cell_type": "code",
      "source": [
        "print(test_target)"
      ],
      "metadata": {
        "colab": {
          "base_uri": "https://localhost:8080/"
        },
        "id": "QqS2HBs8ob6R",
        "outputId": "c5e9f5af-818d-4338-da5e-697d545a3d4e"
      },
      "execution_count": 59,
      "outputs": [
        {
          "output_type": "stream",
          "name": "stdout",
          "text": [
            "[1. 0. 0. 0. 1. 1. 1. 1. 1. 1. 1. 1. 1.]\n"
          ]
        }
      ]
    },
    {
      "cell_type": "markdown",
      "source": [
        "- 모형 만들기"
      ],
      "metadata": {
        "id": "K-JWjufPpBUB"
      }
    },
    {
      "cell_type": "code",
      "source": [
        "kn = KNeighborsClassifier(n_neighbors = 5)\n",
        "kn = kn.fit(train_input, train_target)\n",
        "kn.score(test_input, test_target)"
      ],
      "metadata": {
        "colab": {
          "base_uri": "https://localhost:8080/"
        },
        "id": "sAvwY_axo_Kp",
        "outputId": "c2ba6175-3031-4603-c5c0-334df731306c"
      },
      "execution_count": 60,
      "outputs": [
        {
          "output_type": "execute_result",
          "data": {
            "text/plain": [
              "1.0"
            ]
          },
          "metadata": {},
          "execution_count": 60
        }
      ]
    },
    {
      "cell_type": "markdown",
      "source": [
        "- 수상한 도미"
      ],
      "metadata": {
        "id": "PavGwOavpZcp"
      }
    },
    {
      "cell_type": "markdown",
      "source": [
        "- 도미 : 1, 빙어 : 0"
      ],
      "metadata": {
        "id": "lT6H3nHlp0rx"
      }
    },
    {
      "cell_type": "code",
      "source": [
        "#                 길이, 몸무게\n",
        "print(kn.predict([[25, 150]]))"
      ],
      "metadata": {
        "colab": {
          "base_uri": "https://localhost:8080/"
        },
        "id": "0_e83Fz-pYHY",
        "outputId": "407486da-8425-4465-b704-50749d1eb1a2"
      },
      "execution_count": 61,
      "outputs": [
        {
          "output_type": "stream",
          "name": "stdout",
          "text": [
            "[0.]\n"
          ]
        }
      ]
    },
    {
      "cell_type": "code",
      "source": [
        "import matplotlib. pyplot as plt\n",
        "fig, ax = plt.subplots(figsize=(10,6))\n",
        "ax.scatter(train_input[:, 0], train_input[:, 1])\n",
        "ax.scatter(test_input[:,0], test_input[:,1])\n",
        "\n",
        "ax.scatter(25, 150, marker='^')\n",
        "ax.set_xlabel('length')\n",
        "ax.set_ylabel('weight')\n",
        "\n",
        "plt.show()"
      ],
      "metadata": {
        "colab": {
          "base_uri": "https://localhost:8080/",
          "height": 388
        },
        "id": "BwLneRW9uwJx",
        "outputId": "42bb53dd-079c-4da9-dc96-39b63c8d9455"
      },
      "execution_count": 62,
      "outputs": [
        {
          "output_type": "display_data",
          "data": {
            "text/plain": [
              "<Figure size 720x432 with 1 Axes>"
            ],
            "image/png": "[encoded data removed]"
          },
          "metadata": {
            "needs_background": "light"
          }
        }
      ]
    },
    {
      "cell_type": "code",
      "source": [
        "distances, indexes = kn.kneighbors([[25, 150]])\n",
        "\n",
        "fig, ax = plt.subplots(figsize=(10,6))\n",
        "ax.scatter(train_input[:, 0], train_input[:, 1])\n",
        "ax.scatter(train_input[indexes, 0], train_input[indexes, 1], marker='D')\n",
        "\n",
        "ax.scatter(25, 150, marker='^')\n",
        "ax.set_xlabel('length')\n",
        "ax.set_ylabel('weight')\n",
        "\n",
        "plt.show()"
      ],
      "metadata": {
        "colab": {
          "base_uri": "https://localhost:8080/",
          "height": 388
        },
        "id": "RIpwR8IPvPo4",
        "outputId": "6c39b95a-95ff-4bc5-b74e-f7630c0a9fa6"
      },
      "execution_count": 66,
      "outputs": [
        {
          "output_type": "display_data",
          "data": {
            "text/plain": [
              "<Figure size 720x432 with 1 Axes>"
            ],
            "image/png": "[encoded data removed]"
          },
          "metadata": {
            "needs_background": "light"
          }
        }
      ]
    },
    {
      "cell_type": "code",
      "source": [
        "print(train_input[indexes])"
      ],
      "metadata": {
        "colab": {
          "base_uri": "https://localhost:8080/"
        },
        "id": "fHBSvUiFwOnw",
        "outputId": "9a92194d-445c-45c1-9a59-c7a4b3edf157"
      },
      "execution_count": 67,
      "outputs": [
        {
          "output_type": "stream",
          "name": "stdout",
          "text": [
            "[[[ 25.4 242. ]\n",
            "  [ 15.   19.9]\n",
            "  [ 13.   12.2]\n",
            "  [ 26.3 290. ]\n",
            "  [ 11.8  10. ]]]\n"
          ]
        }
      ]
    },
    {
      "cell_type": "code",
      "source": [
        "print(train_target[indexes])"
      ],
      "metadata": {
        "colab": {
          "base_uri": "https://localhost:8080/"
        },
        "id": "I9ygWV62wYQ4",
        "outputId": "9faf216a-0169-4255-9971-72c761365dea"
      },
      "execution_count": 68,
      "outputs": [
        {
          "output_type": "stream",
          "name": "stdout",
          "text": [
            "[[1. 0. 0. 1. 0.]]\n"
          ]
        }
      ]
    },
    {
      "cell_type": "code",
      "source": [
        "print(distances)"
      ],
      "metadata": {
        "colab": {
          "base_uri": "https://localhost:8080/"
        },
        "id": "G4JjbGM7wb4P",
        "outputId": "897c1738-5ea0-4414-a848-ee0563700f1f"
      },
      "execution_count": 69,
      "outputs": [
        {
          "output_type": "stream",
          "name": "stdout",
          "text": [
            "[[ 92.00086956 130.48375378 138.32150953 140.00603558 140.62090883]]\n"
          ]
        }
      ]
    },
    {
      "cell_type": "code",
      "source": [
        "distances, indexes = kn.kneighbors([[25, 150]])\n",
        "\n",
        "fig, ax = plt.subplots(figsize=(10,6))\n",
        "ax.scatter(train_input[:, 0], train_input[:, 1])\n",
        "ax.scatter(25, 150, marker='^')\n",
        "ax.scatter(train_input[indexes, 0], train_input[indexes, 1], marker='D')\n",
        "ax.set_xlim(0, 1000)\n",
        "\n",
        "ax.set_xlabel('length')\n",
        "ax.set_ylabel('weight')\n",
        "\n",
        "plt.show()"
      ],
      "metadata": {
        "colab": {
          "base_uri": "https://localhost:8080/",
          "height": 388
        },
        "id": "rU9pC-n7xgVB",
        "outputId": "71b4ca16-454a-48a9-959b-08d8909e62fc"
      },
      "execution_count": 70,
      "outputs": [
        {
          "output_type": "display_data",
          "data": {
            "text/plain": [
              "<Figure size 720x432 with 1 Axes>"
            ],
            "image/png": "[encoded data removed]"
          },
          "metadata": {
            "needs_background": "light"
          }
        }
      ]
    },
    {
      "cell_type": "markdown",
      "source": [
        "- 두 가지 수치 데이터가 있음\n",
        "  + length : cm 단위\n",
        "  + weight : g 단위\n",
        "\n",
        "- 데이터 전처리 (Data Processing)= Feature Engineering"
      ],
      "metadata": {
        "id": "WD0dI_3xxubk"
      }
    },
    {
      "cell_type": "markdown",
      "source": [
        "## Feature Engineering 맛보기\n",
        "- scaled => : 표준점수 ( Z-Score )화 한것\n",
        "  + 두개의 수치 데이터 단위가 달라서 단위를 통일해줌.\n"
      ],
      "metadata": {
        "id": "lYC-fkLvyo7v"
      }
    },
    {
      "cell_type": "code",
      "source": [
        "mean = np.mean(train_input, axis=0) # 평균\n",
        "std = np.std(train_input, axis=0) # 표준편차\n",
        "\n",
        "print(mean, std)"
      ],
      "metadata": {
        "colab": {
          "base_uri": "https://localhost:8080/"
        },
        "id": "49qYViquyjK_",
        "outputId": "346581ff-650a-4738-eaa2-db907a163889"
      },
      "execution_count": 71,
      "outputs": [
        {
          "output_type": "stream",
          "name": "stdout",
          "text": [
            "[ 26.175      418.08888889] [ 10.21073441 321.67847023]\n"
          ]
        }
      ]
    },
    {
      "cell_type": "code",
      "source": [
        "train_scaled = (train_input - mean) / std\n",
        "train_scaled"
      ],
      "metadata": {
        "colab": {
          "base_uri": "https://localhost:8080/"
        },
        "id": "gpM6eE6AzBmP",
        "outputId": "8847c489-23c1-48a4-cebd-a708d82ac0d1"
      },
      "execution_count": 72,
      "outputs": [
        {
          "output_type": "execute_result",
          "data": {
            "text/plain": [
              "array([[ 0.37460577,  0.09920189],\n",
              "       [ 0.27666962, -0.17125451],\n",
              "       [ 0.34522492,  0.2546366 ],\n",
              "       [-1.45680021, -1.27266487],\n",
              "       [-1.40783213, -1.26862357],\n",
              "       [-1.29030875, -1.26178444],\n",
              "       [ 0.57047806,  0.56550602],\n",
              "       [ 0.44316107,  0.2546366 ],\n",
              "       [ 0.66841421,  0.87637544],\n",
              "       [ 0.86428651,  0.87637544],\n",
              "       [ 1.4519034 ,  1.73126635],\n",
              "       [ 1.20706303,  1.56028817],\n",
              "       [-0.07590051, -0.54740651],\n",
              "       [-1.3882449 , -1.26924531],\n",
              "       [ 1.30499918,  1.57583164],\n",
              "       [ 0.34522492,  0.09920189],\n",
              "       [ 1.06015881,  1.80898371],\n",
              "       [ 0.47254192,  0.2546366 ],\n",
              "       [-1.53514913, -1.2763953 ],\n",
              "       [ 0.01224202, -0.39818919],\n",
              "       [ 0.76635036,  0.82974503],\n",
              "       [ 0.03182925, -0.24275448],\n",
              "       [-1.52535551, -1.27794965],\n",
              "       [-1.60370443, -1.27888226],\n",
              "       [ 0.86428651,  0.81420156],\n",
              "       [-1.46659382, -1.26924531],\n",
              "       [ 0.47254192,  0.17691924],\n",
              "       [ 0.81531843,  0.6276799 ],\n",
              "       [ 0.71738229,  0.59659296],\n",
              "       [-1.09443646, -1.2378475 ],\n",
              "       [ 0.76635036,  0.48778866],\n",
              "       [ 0.37460577, -0.08731977],\n",
              "       [-1.40783213, -1.26893444],\n",
              "       [ 0.57047806,  0.56550602],\n",
              "       [ 0.96222266,  1.34267957],\n",
              "       [-1.48618105, -1.26955618]])"
            ]
          },
          "metadata": {},
          "execution_count": 72
        }
      ]
    },
    {
      "cell_type": "code",
      "source": [
        "#모델링 재학습\n",
        "kn.fit(train_scaled, train_target)"
      ],
      "metadata": {
        "colab": {
          "base_uri": "https://localhost:8080/"
        },
        "id": "ktjpNGpczX1n",
        "outputId": "b3182783-556e-4873-8374-c841aaae4ce2"
      },
      "execution_count": 73,
      "outputs": [
        {
          "output_type": "execute_result",
          "data": {
            "text/plain": [
              "KNeighborsClassifier()"
            ]
          },
          "metadata": {},
          "execution_count": 73
        }
      ]
    },
    {
      "cell_type": "code",
      "source": [
        "#모형 평가 -> 100%\n",
        "test_scaled = (test_input - mean) / std\n",
        "kn.score(test_scaled, test_target)"
      ],
      "metadata": {
        "colab": {
          "base_uri": "https://localhost:8080/"
        },
        "id": "PTWQGamYzeV3",
        "outputId": "0615bdd6-00f4-49e6-d6e3-e22b3b50d7ff"
      },
      "execution_count": 74,
      "outputs": [
        {
          "output_type": "execute_result",
          "data": {
            "text/plain": [
              "1.0"
            ]
          },
          "metadata": {},
          "execution_count": 74
        }
      ]
    },
    {
      "cell_type": "code",
      "source": [
        "#새로운 데이터\n",
        "new = ([25, 150] - mean) / std\n",
        "new"
      ],
      "metadata": {
        "colab": {
          "base_uri": "https://localhost:8080/"
        },
        "id": "UinnhxVTzp7U",
        "outputId": "35a40de8-2e23-480c-a133-a831efdf8a32"
      },
      "execution_count": 77,
      "outputs": [
        {
          "output_type": "execute_result",
          "data": {
            "text/plain": [
              "array([-0.11507497, -0.83340638])"
            ]
          },
          "metadata": {},
          "execution_count": 77
        }
      ]
    },
    {
      "cell_type": "code",
      "source": [
        "print(kn.predict([new]))"
      ],
      "metadata": {
        "colab": {
          "base_uri": "https://localhost:8080/"
        },
        "id": "kd6iDkkrz62P",
        "outputId": "f159140a-4bb5-4883-e30c-90857def8669"
      },
      "execution_count": 78,
      "outputs": [
        {
          "output_type": "stream",
          "name": "stdout",
          "text": [
            "[1.]\n"
          ]
        }
      ]
    },
    {
      "cell_type": "code",
      "source": [
        "distances, indexes = kn.kneighbors([new])\n",
        "\n",
        "fig, ax = plt.subplots(figsize=(10,6))\n",
        "ax.scatter(train_scaled[:, 0], train_scaled[:, 1])\n",
        "ax.scatter(new[0], new[1], marker='^')\n",
        "ax.scatter(train_scaled[indexes, 0], train_scaled[indexes, 1], marker='D')\n",
        "\n",
        "\n",
        "ax.set_xlabel('length')\n",
        "ax.set_ylabel('weight')\n",
        "\n",
        "plt.show()"
      ],
      "metadata": {
        "colab": {
          "base_uri": "https://localhost:8080/",
          "height": 388
        },
        "id": "TfJ7_Knl0to_",
        "outputId": "c9545924-a0f2-4b07-fd49-7e29cc1cd7e1"
      },
      "execution_count": 81,
      "outputs": [
        {
          "output_type": "display_data",
          "data": {
            "text/plain": [
              "<Figure size 720x432 with 1 Axes>"
            ],
            "image/png": "[encoded data removed]"
          },
          "metadata": {
            "needs_background": "light"
          }
        }
      ]
    }
  ]
}