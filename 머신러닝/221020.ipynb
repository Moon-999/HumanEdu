{
  "nbformat": 4,
  "nbformat_minor": 0,
  "metadata": {
    "colab": {
      "provenance": [],
      "collapsed_sections": []
    },
    "kernelspec": {
      "name": "python3",
      "display_name": "Python 3"
    },
    "language_info": {
      "name": "python"
    }
  },
  "cells": [
    {
      "cell_type": "markdown",
      "source": [
        "## 교차검증 & 샘플링 & 그리드 서치\n",
        "- 정확하다, 정확도를 올린다 (X)\n",
        "- Accuracy Better Model (X)\n",
        "- Accuracy Stable Model(O)"
      ],
      "metadata": {
        "id": "SLMF8bs8xe0s"
      }
    },
    {
      "cell_type": "code",
      "execution_count": 2,
      "metadata": {
        "id": "4Ukv3tt8wmxc"
      },
      "outputs": [],
      "source": [
        "import pandas as pd\n",
        "wine = pd.read_csv('https://bit.ly/wine_csv_data')"
      ]
    },
    {
      "cell_type": "markdown",
      "source": [
        "### Input & Target 으로 1차 분리"
      ],
      "metadata": {
        "id": "6c-H64OByoBr"
      }
    },
    {
      "cell_type": "code",
      "source": [
        "data = wine[['alcohol','sugar', 'pH']].to_numpy()\n",
        "target = wine['class'].to_numpy()"
      ],
      "metadata": {
        "id": "7HoH4gM6yshT"
      },
      "execution_count": 3,
      "outputs": []
    },
    {
      "cell_type": "markdown",
      "source": [
        "### 세트 분리\n",
        "- 기존) : train/test 세트로 분리\n",
        "- 지금) : train/valid/test 세트로 분리"
      ],
      "metadata": {
        "id": "1WYJ7KlkzDRy"
      }
    },
    {
      "cell_type": "markdown",
      "source": [
        "- train/test 8:2로 분리"
      ],
      "metadata": {
        "id": "8Nga6sL7zZYL"
      }
    },
    {
      "cell_type": "code",
      "source": [
        "from sklearn.model_selection import train_test_split\n",
        "train_input, test_input, train_target, test_target = train_test_split(\n",
        "    data, target, test_size = 0.2, random_state=42\n",
        ")\n",
        "\n",
        "train_input.shape, test_input.shape, train_target.shape, test_target.shape"
      ],
      "metadata": {
        "colab": {
          "base_uri": "https://localhost:8080/"
        },
        "id": "p9tlhKBhzLwj",
        "outputId": "789f6295-8155-4c9c-d5df-0d39d34e5660"
      },
      "execution_count": 4,
      "outputs": [
        {
          "output_type": "execute_result",
          "data": {
            "text/plain": [
              "((5197, 3), (1300, 3), (5197,), (1300,))"
            ]
          },
          "metadata": {},
          "execution_count": 4
        }
      ]
    },
    {
      "cell_type": "code",
      "source": [
        "sub_input, val_input, sub_target, val_target = train_test_split(\n",
        "    train_input, train_target, test_size=0.2, random_state = 42\n",
        ")\n",
        "\n",
        "sub_input.shape, val_input.shape, sub_target.shape, val_target.shape"
      ],
      "metadata": {
        "colab": {
          "base_uri": "https://localhost:8080/"
        },
        "id": "HWOfRvmRzyIT",
        "outputId": "78a195d8-3583-4a4d-91e3-45bce71cfbc6"
      },
      "execution_count": 5,
      "outputs": [
        {
          "output_type": "execute_result",
          "data": {
            "text/plain": [
              "((4157, 3), (1040, 3), (4157,), (1040,))"
            ]
          },
          "metadata": {},
          "execution_count": 5
        }
      ]
    },
    {
      "cell_type": "markdown",
      "source": [
        "- 모형 만들고, 모형 평가\n",
        "  + 기존) test 데이터를 바로 평가 (unseen data) / 미래에 올 데이터\n",
        "  + 지금) val 데이터만 평가"
      ],
      "metadata": {
        "id": "fl_KKqai0oas"
      }
    },
    {
      "cell_type": "code",
      "source": [
        "from sklearn.tree import DecisionTreeClassifier\n",
        "\n",
        "dt = DecisionTreeClassifier(random_state = 42)\n",
        "dt.fit(sub_input, sub_target)\n",
        "\n",
        "print(dt.score(sub_input, sub_target))\n",
        "print(dt.score(val_input, val_target))"
      ],
      "metadata": {
        "colab": {
          "base_uri": "https://localhost:8080/"
        },
        "id": "WUjuKmxZ1Brz",
        "outputId": "955fd95d-3872-40d3-cbf4-1f059f514bf0"
      },
      "execution_count": 6,
      "outputs": [
        {
          "output_type": "stream",
          "name": "stdout",
          "text": [
            "0.9971133028626413\n",
            "0.864423076923077\n"
          ]
        }
      ]
    },
    {
      "cell_type": "code",
      "source": [
        "print(dt.score(test_input, test_target))"
      ],
      "metadata": {
        "colab": {
          "base_uri": "https://localhost:8080/"
        },
        "id": "Av2wtO7t1V-6",
        "outputId": "20bf0e97-9972-4b35-9f67-0b2b3209b544"
      },
      "execution_count": 7,
      "outputs": [
        {
          "output_type": "stream",
          "name": "stdout",
          "text": [
            "0.8569230769230769\n"
          ]
        }
      ]
    },
    {
      "cell_type": "markdown",
      "source": [
        "## 교차검증 "
      ],
      "metadata": {
        "id": "K2egQKF010oK"
      }
    },
    {
      "cell_type": "code",
      "source": [
        "from sklearn.model_selection import cross_validate\n",
        "scores = cross_validate(dt, train_input, train_target)\n",
        "\n",
        "print(scores)"
      ],
      "metadata": {
        "colab": {
          "base_uri": "https://localhost:8080/"
        },
        "id": "G8zvOgnI124r",
        "outputId": "7b5d27e7-a46a-43ee-fcc1-2a86f738085c"
      },
      "execution_count": 8,
      "outputs": [
        {
          "output_type": "stream",
          "name": "stdout",
          "text": [
            "{'fit_time': array([0.01093674, 0.0073576 , 0.0077107 , 0.00760198, 0.00735044]), 'score_time': array([0.00104761, 0.00105667, 0.00089884, 0.0008719 , 0.00082874]), 'test_score': array([0.86923077, 0.84615385, 0.87680462, 0.84889317, 0.83541867])}\n"
          ]
        }
      ]
    },
    {
      "cell_type": "code",
      "source": [
        "scores['test_score']\n",
        "#제각각의 데이터 점수가 나옴 -> 샘플링이 편향되어있다를 의미."
      ],
      "metadata": {
        "colab": {
          "base_uri": "https://localhost:8080/"
        },
        "id": "Ihgt6_tu2Rlq",
        "outputId": "f021b606-22bc-4fcd-eed1-529261259389"
      },
      "execution_count": 9,
      "outputs": [
        {
          "output_type": "execute_result",
          "data": {
            "text/plain": [
              "array([0.86923077, 0.84615385, 0.87680462, 0.84889317, 0.83541867])"
            ]
          },
          "metadata": {},
          "execution_count": 9
        }
      ]
    },
    {
      "cell_type": "code",
      "source": [
        "import numpy as np\n",
        "\n",
        "# 검증 데이터 점수\n",
        "np.mean(scores['test_score'])"
      ],
      "metadata": {
        "colab": {
          "base_uri": "https://localhost:8080/"
        },
        "id": "9Xec1UUA2UCi",
        "outputId": "4171c8ae-a515-4a43-ea1b-b167d1c45ac4"
      },
      "execution_count": 10,
      "outputs": [
        {
          "output_type": "execute_result",
          "data": {
            "text/plain": [
              "0.855300214703487"
            ]
          },
          "metadata": {},
          "execution_count": 10
        }
      ]
    },
    {
      "cell_type": "markdown",
      "source": [
        "- StratifiedKFold 활용\n",
        "  + 통계용어 : 층화추출\n",
        "- 기존) 임의추출방식(무작위)\n",
        "- 분류모형\n",
        "  + 분류기준 / 레드와인 갯수, 화이트와인 갯수"
      ],
      "metadata": {
        "id": "2MOyppgq6Xu6"
      }
    },
    {
      "cell_type": "code",
      "source": [
        "from sklearn.model_selection import StratifiedKFold\n",
        "scores = cross_validate(dt, train_input, train_target, cv=StratifiedKFold())\n",
        "print(np.mean(scores['test_score']))"
      ],
      "metadata": {
        "colab": {
          "base_uri": "https://localhost:8080/"
        },
        "id": "O-2cFTyh8jLZ",
        "outputId": "3ec6a9f6-7257-4076-bd51-daf209239e53"
      },
      "execution_count": 11,
      "outputs": [
        {
          "output_type": "stream",
          "name": "stdout",
          "text": [
            "0.855300214703487\n"
          ]
        }
      ]
    },
    {
      "cell_type": "markdown",
      "source": [
        "- StratifiedKFold()의 세부 옵션 지정\n"
      ],
      "metadata": {
        "id": "DYsTlpsV85N0"
      }
    },
    {
      "cell_type": "code",
      "source": [
        "#n_splits : 몇번 교차 검증 할건지 숫자(10)\n",
        "splitter = StratifiedKFold(n_splits=10, shuffle=True, random_state=42)\n",
        "scores = cross_validate(dt, train_input, train_target, cv=splitter)\n",
        "print(np.mean(scores['test_score']))"
      ],
      "metadata": {
        "colab": {
          "base_uri": "https://localhost:8080/"
        },
        "id": "eelW5eEk89ZC",
        "outputId": "ef20e9d0-3ccc-4435-fc46-021b942297a0"
      },
      "execution_count": 12,
      "outputs": [
        {
          "output_type": "stream",
          "name": "stdout",
          "text": [
            "0.8574181117533719\n"
          ]
        }
      ]
    },
    {
      "cell_type": "markdown",
      "source": [
        "## 하이퍼파라미터의 개념\n",
        "- 기존) 수동으로 조정, 하나씩 값을 확인하는 형태\n",
        "  - ridge(), Lasso() = alpha값 조정\n",
        "  - decision Tree = max_depth 값 조정 \n",
        "\n",
        "- 지금) 자동화 개발 ->  머신러닝 엔지니어"
      ],
      "metadata": {
        "id": "zin6PenV9ePI"
      }
    },
    {
      "cell_type": "code",
      "source": [
        "from sklearn.model_selection import GridSearchCV\n",
        "#모형 만들기\n",
        "dt = DecisionTreeClassifier(random_state=42)\n",
        "\n",
        "#하이퍼파라미터 투입\n",
        "params = {'max_depth' : [2, 3, 4, 5, 6, 7]}\n",
        "gs = GridSearchCV(dt, params, n_jobs=-1)\n",
        "\n",
        "#모형학습 -> 7번 수행\n",
        "gs.fit(train_input, train_target)"
      ],
      "metadata": {
        "colab": {
          "base_uri": "https://localhost:8080/"
        },
        "id": "uyswvujq-m8p",
        "outputId": "379b002a-e61e-4b4b-dee8-da0bd9b2fb5c"
      },
      "execution_count": 13,
      "outputs": [
        {
          "output_type": "execute_result",
          "data": {
            "text/plain": [
              "GridSearchCV(estimator=DecisionTreeClassifier(random_state=42), n_jobs=-1,\n",
              "             param_grid={'max_depth': [2, 3, 4, 5, 6, 7]})"
            ]
          },
          "metadata": {},
          "execution_count": 13
        }
      ]
    },
    {
      "cell_type": "markdown",
      "source": [
        "- 가장 최적화된 max_depth 확인"
      ],
      "metadata": {
        "id": "Lc3_dK49_V5Z"
      }
    },
    {
      "cell_type": "code",
      "source": [
        "print(gs.best_params_)"
      ],
      "metadata": {
        "colab": {
          "base_uri": "https://localhost:8080/"
        },
        "id": "1QX0tJ-1_TfR",
        "outputId": "d5b2b0ba-13d1-4a02-9b9a-6da20f4ab298"
      },
      "execution_count": 14,
      "outputs": [
        {
          "output_type": "stream",
          "name": "stdout",
          "text": [
            "{'max_depth': 5}\n"
          ]
        }
      ]
    },
    {
      "cell_type": "code",
      "source": [
        "best_dt = gs.best_estimator_\n",
        "print(best_dt.score(train_input, train_target))"
      ],
      "metadata": {
        "colab": {
          "base_uri": "https://localhost:8080/"
        },
        "id": "wWPlLQk7_kTI",
        "outputId": "b0e99d57-1f46-457f-c6e0-cc1aa0c85d82"
      },
      "execution_count": 15,
      "outputs": [
        {
          "output_type": "stream",
          "name": "stdout",
          "text": [
            "0.8672310948624207\n"
          ]
        }
      ]
    },
    {
      "cell_type": "code",
      "source": [
        "gs.cv_results_['mean_test_score']\n",
        "\n",
        "result = pd.DataFrame({\n",
        "    'max_depth' : [2,3,4,5,6,7],\n",
        "    'score' : gs.cv_results_['mean_test_score']\n",
        "})\n",
        "\n",
        "result"
      ],
      "metadata": {
        "colab": {
          "base_uri": "https://localhost:8080/",
          "height": 238
        },
        "id": "VBFUcNUP_7Lw",
        "outputId": "675466da-c42e-446b-e00d-db5fb0561846"
      },
      "execution_count": 16,
      "outputs": [
        {
          "output_type": "execute_result",
          "data": {
            "text/plain": [
              "   max_depth     score\n",
              "0          2  0.813936\n",
              "1          3  0.841256\n",
              "2          4  0.853378\n",
              "3          5  0.857804\n",
              "4          6  0.855880\n",
              "5          7  0.855301"
            ],
            "text/html": [
              "\n",
              "  <div id=\"df-1889e570-9d1c-48b0-a8e9-bf938f8fd8db\">\n",
              "    <div class=\"colab-df-container\">\n",
              "      <div>\n",
              "<style scoped>\n",
              "    .dataframe tbody tr th:only-of-type {\n",
              "        vertical-align: middle;\n",
              "    }\n",
              "\n",
              "    .dataframe tbody tr th {\n",
              "        vertical-align: top;\n",
              "    }\n",
              "\n",
              "    .dataframe thead th {\n",
              "        text-align: right;\n",
              "    }\n",
              "</style>\n",
              "<table border=\"1\" class=\"dataframe\">\n",
              "  <thead>\n",
              "    <tr style=\"text-align: right;\">\n",
              "      <th></th>\n",
              "      <th>max_depth</th>\n",
              "      <th>score</th>\n",
              "    </tr>\n",
              "  </thead>\n",
              "  <tbody>\n",
              "    <tr>\n",
              "      <th>0</th>\n",
              "      <td>2</td>\n",
              "      <td>0.813936</td>\n",
              "    </tr>\n",
              "    <tr>\n",
              "      <th>1</th>\n",
              "      <td>3</td>\n",
              "      <td>0.841256</td>\n",
              "    </tr>\n",
              "    <tr>\n",
              "      <th>2</th>\n",
              "      <td>4</td>\n",
              "      <td>0.853378</td>\n",
              "    </tr>\n",
              "    <tr>\n",
              "      <th>3</th>\n",
              "      <td>5</td>\n",
              "      <td>0.857804</td>\n",
              "    </tr>\n",
              "    <tr>\n",
              "      <th>4</th>\n",
              "      <td>6</td>\n",
              "      <td>0.855880</td>\n",
              "    </tr>\n",
              "    <tr>\n",
              "      <th>5</th>\n",
              "      <td>7</td>\n",
              "      <td>0.855301</td>\n",
              "    </tr>\n",
              "  </tbody>\n",
              "</table>\n",
              "</div>\n",
              "      <button class=\"colab-df-convert\" onclick=\"convertToInteractive('df-1889e570-9d1c-48b0-a8e9-bf938f8fd8db')\"\n",
              "              title=\"Convert this dataframe to an interactive table.\"\n",
              "              style=\"display:none;\">\n",
              "        \n",
              "  <svg xmlns=\"http://www.w3.org/2000/svg\" height=\"24px\"viewBox=\"0 0 24 24\"\n",
              "       width=\"24px\">\n",
              "    <path d=\"M0 0h24v24H0V0z\" fill=\"none\"/>\n",
              "    <path d=\"M18.56 5.44l.94 2.06.94-2.06 2.06-.94-2.06-.94-.94-2.06-.94 2.06-2.06.94zm-11 1L8.5 8.5l.94-2.06 2.06-.94-2.06-.94L8.5 2.5l-.94 2.06-2.06.94zm10 10l.94 2.06.94-2.06 2.06-.94-2.06-.94-.94-2.06-.94 2.06-2.06.94z\"/><path d=\"M17.41 7.96l-1.37-1.37c-.4-.4-.92-.59-1.43-.59-.52 0-1.04.2-1.43.59L10.3 9.45l-7.72 7.72c-.78.78-.78 2.05 0 2.83L4 21.41c.39.39.9.59 1.41.59.51 0 1.02-.2 1.41-.59l7.78-7.78 2.81-2.81c.8-.78.8-2.07 0-2.86zM5.41 20L4 18.59l7.72-7.72 1.47 1.35L5.41 20z\"/>\n",
              "  </svg>\n",
              "      </button>\n",
              "      \n",
              "  <style>\n",
              "    .colab-df-container {\n",
              "      display:flex;\n",
              "      flex-wrap:wrap;\n",
              "      gap: 12px;\n",
              "    }\n",
              "\n",
              "    .colab-df-convert {\n",
              "      background-color: #E8F0FE;\n",
              "      border: none;\n",
              "      border-radius: 50%;\n",
              "      cursor: pointer;\n",
              "      display: none;\n",
              "      fill: #1967D2;\n",
              "      height: 32px;\n",
              "      padding: 0 0 0 0;\n",
              "      width: 32px;\n",
              "    }\n",
              "\n",
              "    .colab-df-convert:hover {\n",
              "      background-color: #E2EBFA;\n",
              "      box-shadow: 0px 1px 2px rgba(60, 64, 67, 0.3), 0px 1px 3px 1px rgba(60, 64, 67, 0.15);\n",
              "      fill: #174EA6;\n",
              "    }\n",
              "\n",
              "    [theme=dark] .colab-df-convert {\n",
              "      background-color: #3B4455;\n",
              "      fill: #D2E3FC;\n",
              "    }\n",
              "\n",
              "    [theme=dark] .colab-df-convert:hover {\n",
              "      background-color: #434B5C;\n",
              "      box-shadow: 0px 1px 3px 1px rgba(0, 0, 0, 0.15);\n",
              "      filter: drop-shadow(0px 1px 2px rgba(0, 0, 0, 0.3));\n",
              "      fill: #FFFFFF;\n",
              "    }\n",
              "  </style>\n",
              "\n",
              "      <script>\n",
              "        const buttonEl =\n",
              "          document.querySelector('#df-1889e570-9d1c-48b0-a8e9-bf938f8fd8db button.colab-df-convert');\n",
              "        buttonEl.style.display =\n",
              "          google.colab.kernel.accessAllowed ? 'block' : 'none';\n",
              "\n",
              "        async function convertToInteractive(key) {\n",
              "          const element = document.querySelector('#df-1889e570-9d1c-48b0-a8e9-bf938f8fd8db');\n",
              "          const dataTable =\n",
              "            await google.colab.kernel.invokeFunction('convertToInteractive',\n",
              "                                                     [key], {});\n",
              "          if (!dataTable) return;\n",
              "\n",
              "          const docLinkHtml = 'Like what you see? Visit the ' +\n",
              "            '<a target=\"_blank\" href=https://colab.research.google.com/notebooks/data_table.ipynb>data table notebook</a>'\n",
              "            + ' to learn more about interactive tables.';\n",
              "          element.innerHTML = '';\n",
              "          dataTable['output_type'] = 'display_data';\n",
              "          await google.colab.output.renderOutput(dataTable, element);\n",
              "          const docLink = document.createElement('div');\n",
              "          docLink.innerHTML = docLinkHtml;\n",
              "          element.appendChild(docLink);\n",
              "        }\n",
              "      </script>\n",
              "    </div>\n",
              "  </div>\n",
              "  "
            ]
          },
          "metadata": {},
          "execution_count": 16
        }
      ]
    },
    {
      "cell_type": "code",
      "source": [
        "#하이퍼파라미터 투입\n",
        "params = {'max_depth' : [2, 3, 4, 5, 6, 7],\n",
        "          #노드 분할 시, 불순도 감소 최저량 지정\n",
        "          'min_impurity_decrease' : np.arange(0.0001, 0.001, 0.01),\n",
        "          #범위 지정은 내 맘대로,,\n",
        "          'min_samples_split' : range(2, 100, 10)\n",
        "          }\n",
        "          \n",
        "gs = GridSearchCV(dt, params, n_jobs=-1)\n",
        "\n",
        "#모형학습 -> 7번 수행\n",
        "gs.fit(train_input, train_target)\n",
        "\n",
        "print(gs.best_params_)\n",
        "\n",
        "best_dt = gs.best_estimator_\n",
        "print(best_dt.score(train_input, train_target))"
      ],
      "metadata": {
        "colab": {
          "base_uri": "https://localhost:8080/"
        },
        "id": "q3NYwNTlBFig",
        "outputId": "d6aec720-20f0-49ea-ed0d-22ead13641ee"
      },
      "execution_count": 17,
      "outputs": [
        {
          "output_type": "stream",
          "name": "stdout",
          "text": [
            "{'max_depth': 7, 'min_impurity_decrease': 0.0001, 'min_samples_split': 92}\n",
            "0.8793534731575909\n"
          ]
        }
      ]
    },
    {
      "cell_type": "markdown",
      "source": [
        "## 랜덤 서치\n",
        "- 매개변수 값의 목록을 전달하는 것이 아님.\n",
        "- 매개변수가 샘플링할 수 있는 객체를 전달.\n"
      ],
      "metadata": {
        "id": "9icS5s5VID-g"
      }
    },
    {
      "cell_type": "markdown",
      "source": [
        "- 정수 무작위 추출"
      ],
      "metadata": {
        "id": "brQajR2OJP9n"
      }
    },
    {
      "cell_type": "code",
      "source": [
        "from scipy.stats import uniform, randint\n",
        "\n",
        "rgen = randint(0, 10)\n",
        "np.unique(rgen.rvs(10), return_counts = True)"
      ],
      "metadata": {
        "colab": {
          "base_uri": "https://localhost:8080/"
        },
        "id": "I_V29mUlIrWP",
        "outputId": "e31e193f-b92c-4b08-d151-3188d7c30b1a"
      },
      "execution_count": 18,
      "outputs": [
        {
          "output_type": "execute_result",
          "data": {
            "text/plain": [
              "(array([0, 2, 3, 4, 7, 8, 9]), array([1, 1, 2, 1, 1, 1, 3]))"
            ]
          },
          "metadata": {},
          "execution_count": 18
        }
      ]
    },
    {
      "cell_type": "markdown",
      "source": [
        "- 실수 무작위 추출"
      ],
      "metadata": {
        "id": "g5ZlDLIZJNFy"
      }
    },
    {
      "cell_type": "code",
      "source": [
        "ugen = uniform(0,1)\n",
        "ugen.rvs(10)"
      ],
      "metadata": {
        "colab": {
          "base_uri": "https://localhost:8080/"
        },
        "id": "jwafiNbCJPHo",
        "outputId": "d9bba6ab-4f25-413a-838d-6fea6d8c6cc7"
      },
      "execution_count": 19,
      "outputs": [
        {
          "output_type": "execute_result",
          "data": {
            "text/plain": [
              "array([0.0457353 , 0.42201487, 0.83646708, 0.20274877, 0.87543753,\n",
              "       0.13526944, 0.19242568, 0.6432016 , 0.20636617, 0.56385318])"
            ]
          },
          "metadata": {},
          "execution_count": 19
        }
      ]
    },
    {
      "cell_type": "code",
      "source": [
        "from sklearn.model_selection import RandomizedSearchCV\n",
        "\n",
        "\n",
        "#하이퍼파라미터 투입\n",
        "params = {'max_depth' : randint(2, 50),\n",
        "          #노드 분할 시, 불순도 감소 최저량 지정\n",
        "          'min_impurity_decrease' : uniform(0.0001, 0.01),\n",
        "          #범위 지정은 내 맘대로,,\n",
        "          'min_samples_split' : randint(2, 50)\n",
        "          }\n",
        "#모형 만들기\n",
        "dt = DecisionTreeClassifier(random_state=42)\n",
        "#랜덤 서치                          n_jobs = 모든 코어를 쓰겠다는 의미.(병렬연산) => 속도 빠름.\n",
        "rs = RandomizedSearchCV(dt, params, n_iter = 100, random_state=42, n_jobs=-1)\n",
        "\n",
        "rs.fit(train_input, train_target)\n"
      ],
      "metadata": {
        "colab": {
          "base_uri": "https://localhost:8080/"
        },
        "id": "uK8HVNBxJbqf",
        "outputId": "a0fd13ad-fa3e-43a7-8488-cb45fa98cf02"
      },
      "execution_count": 20,
      "outputs": [
        {
          "output_type": "execute_result",
          "data": {
            "text/plain": [
              "RandomizedSearchCV(estimator=DecisionTreeClassifier(random_state=42),\n",
              "                   n_iter=100, n_jobs=-1,\n",
              "                   param_distributions={'max_depth': <scipy.stats._distn_infrastructure.rv_frozen object at 0x7fbad32bff50>,\n",
              "                                        'min_impurity_decrease': <scipy.stats._distn_infrastructure.rv_frozen object at 0x7fbad32bf510>,\n",
              "                                        'min_samples_split': <scipy.stats._distn_infrastructure.rv_frozen object at 0x7fbad32bf890>},\n",
              "                   random_state=42)"
            ]
          },
          "metadata": {},
          "execution_count": 20
        }
      ]
    },
    {
      "cell_type": "code",
      "source": [
        "print(rs.best_params_)\n",
        "\n",
        "best_dt = rs.best_estimator_\n",
        "print(best_dt.score(train_input, train_target))"
      ],
      "metadata": {
        "colab": {
          "base_uri": "https://localhost:8080/"
        },
        "id": "kdDlXZopKun3",
        "outputId": "2e1a4b9e-aa2c-4059-9226-4d718e66b2ac"
      },
      "execution_count": 21,
      "outputs": [
        {
          "output_type": "stream",
          "name": "stdout",
          "text": [
            "{'max_depth': 40, 'min_impurity_decrease': 0.0005043358953843135, 'min_samples_split': 16}\n",
            "0.8874350586877044\n"
          ]
        }
      ]
    },
    {
      "cell_type": "code",
      "source": [
        "#param 추가 \n",
        "\n",
        "from sklearn.model_selection import RandomizedSearchCV\n",
        "\n",
        "\n",
        "#하이퍼파라미터 투입\n",
        "params = {'max_depth' : randint(2, 50),\n",
        "          #노드 분할 시, 불순도 감소 최저량 지정\n",
        "          'min_impurity_decrease' : uniform(0.0001, 0.01),\n",
        "          #범위 지정은 내 맘대로,,\n",
        "          'min_samples_split' : randint(2, 50),\n",
        "          'min_samples_leaf' : randint(2, 50),\n",
        "          'min_weight_fraction_leaf' : uniform(0.0001, 0.01),\n",
        "          'max_leaf_nodes' : randint(2, 50),\n",
        "          'ccp_alpha' : uniform(0.0001, 0.01)\n",
        "          }\n",
        "#모형 만들기\n",
        "dt = DecisionTreeClassifier(random_state=42)\n",
        "#랜덤 서치                          n_jobs = 모든 코어를 쓰겠다는 의미.(병렬연산) => 속도 빠름.\n",
        "rs = RandomizedSearchCV(dt, params, n_iter = 100, random_state=42, n_jobs=-1)\n",
        "\n",
        "rs.fit(train_input, train_target)\n"
      ],
      "metadata": {
        "colab": {
          "base_uri": "https://localhost:8080/"
        },
        "id": "JfOoHD5ZL-0_",
        "outputId": "f74aec08-cdb2-4957-d807-475b4e78bc24"
      },
      "execution_count": 22,
      "outputs": [
        {
          "output_type": "execute_result",
          "data": {
            "text/plain": [
              "RandomizedSearchCV(estimator=DecisionTreeClassifier(random_state=42),\n",
              "                   n_iter=100, n_jobs=-1,\n",
              "                   param_distributions={'ccp_alpha': <scipy.stats._distn_infrastructure.rv_frozen object at 0x7fbad3312c90>,\n",
              "                                        'max_depth': <scipy.stats._distn_infrastructure.rv_frozen object at 0x7fbad328afd0>,\n",
              "                                        'max_leaf_nodes': <scipy.stats._distn_infrastructure.rv_frozen object at 0x7fbad331...\n",
              "                                        'min_impurity_decrease': <scipy.stats._distn_infrastructure.rv_frozen object at 0x7fbad328ae10>,\n",
              "                                        'min_samples_leaf': <scipy.stats._distn_infrastructure.rv_frozen object at 0x7fbad328ab90>,\n",
              "                                        'min_samples_split': <scipy.stats._distn_infrastructure.rv_frozen object at 0x7fbad328ab50>,\n",
              "                                        'min_weight_fraction_leaf': <scipy.stats._distn_infrastructure.rv_frozen object at 0x7fbad328a2d0>},\n",
              "                   random_state=42)"
            ]
          },
          "metadata": {},
          "execution_count": 22
        }
      ]
    },
    {
      "cell_type": "code",
      "source": [
        "print(rs.best_params_)\n",
        "\n",
        "best_dt = rs.best_estimator_\n",
        "print(best_dt.score(train_input, train_target))"
      ],
      "metadata": {
        "colab": {
          "base_uri": "https://localhost:8080/"
        },
        "id": "N6B1-RvhNVTn",
        "outputId": "9caae578-b1e0-4e9a-957d-3202bd1157b4"
      },
      "execution_count": 23,
      "outputs": [
        {
          "output_type": "stream",
          "name": "stdout",
          "text": [
            "{'ccp_alpha': 0.001044429607559284, 'max_depth': 36, 'max_leaf_nodes': 24, 'min_impurity_decrease': 0.0008118864846022899, 'min_samples_leaf': 9, 'min_samples_split': 30, 'min_weight_fraction_leaf': 0.008548753109694546}\n",
            "0.8672310948624207\n"
          ]
        }
      ]
    },
    {
      "cell_type": "markdown",
      "source": [
        "## 주요 정리\n",
        "- 샘플링 중요 : 데이터가 편향적 일 수 있다. \n",
        "- 과대적합 방지 : 하이퍼파라미터 튜닝을 진행한다. \n",
        "  + 그리드 서치 : 비 추천\n",
        "  + 랜덤 서치 : 추천\n",
        "  + 각 모델의 도움말을 잘 살펴본다. "
      ],
      "metadata": {
        "id": "-_Ax-OMIPjjW"
      }
    },
    {
      "cell_type": "markdown",
      "source": [
        "## 트리의 앙상블 or 다양한 트리 관련 모델 입문"
      ],
      "metadata": {
        "id": "SIS3ijOGP7de"
      }
    },
    {
      "cell_type": "markdown",
      "source": [
        "## 랜덤 포레스트(Random Forest)\n",
        "- Decision Tree \n",
        "- 데이터 샘플은 무작위로 뽑는다 ( 행 조정 )\n",
        "- 데이터 컬럼 갯수가 매우 많음\n",
        "  + 1천개\n",
        "  + 컬럼 갯수의 조합 ( 무작위 선택 필요 )\n",
        "  + 독립된 모형 \n",
        "- 데이터셋이 클 때, 매우 큰 효과 발휘"
      ],
      "metadata": {
        "id": "FBd3BeILvzBQ"
      }
    },
    {
      "cell_type": "code",
      "source": [
        "train_input.shape, test_input.shape, train_target.shape, test_target.shape"
      ],
      "metadata": {
        "colab": {
          "base_uri": "https://localhost:8080/"
        },
        "id": "pKlFXSku0AcR",
        "outputId": "7a98fac5-71e4-407c-aeea-11b235a9a596"
      },
      "execution_count": 24,
      "outputs": [
        {
          "output_type": "execute_result",
          "data": {
            "text/plain": [
              "((5197, 3), (1300, 3), (5197,), (1300,))"
            ]
          },
          "metadata": {},
          "execution_count": 24
        }
      ]
    },
    {
      "cell_type": "code",
      "source": [
        "from sklearn.model_selection import cross_validate\n",
        "from sklearn.ensemble import RandomForestClassifier\n",
        "\n",
        "rf = RandomForestClassifier(n_jobs=-1, random_state=42)\n",
        "scores = cross_validate(rf, train_input, train_target, return_train_score = True)\n",
        "\n",
        "print(np.mean(scores['train_score']), np.mean(scores['test_score']))\n"
      ],
      "metadata": {
        "colab": {
          "base_uri": "https://localhost:8080/"
        },
        "id": "BXv7k2iT0XVf",
        "outputId": "fa43a7de-1d9c-41db-e509-b3c6f2b4d6e1"
      },
      "execution_count": 25,
      "outputs": [
        {
          "output_type": "stream",
          "name": "stdout",
          "text": [
            "0.9973541965122431 0.8905151032797809\n"
          ]
        }
      ]
    },
    {
      "cell_type": "code",
      "source": [
        "scores"
      ],
      "metadata": {
        "colab": {
          "base_uri": "https://localhost:8080/"
        },
        "id": "-09isNqX1Jci",
        "outputId": "bc561ffc-e6ce-4537-94bc-c977fe4e8147"
      },
      "execution_count": 26,
      "outputs": [
        {
          "output_type": "execute_result",
          "data": {
            "text/plain": [
              "{'fit_time': array([0.48446846, 0.45230937, 0.47659159, 0.44295979, 0.46873283]),\n",
              " 'score_time': array([0.10444355, 0.10297704, 0.10325408, 0.10298467, 0.10302687]),\n",
              " 'test_score': array([0.88461538, 0.88942308, 0.90279115, 0.88931665, 0.88642926]),\n",
              " 'train_score': array([0.9971133 , 0.99663219, 0.9978355 , 0.9973545 , 0.9978355 ])}"
            ]
          },
          "metadata": {},
          "execution_count": 26
        }
      ]
    },
    {
      "cell_type": "markdown",
      "source": [
        "### 특성 중요도\n",
        "- 각 데이터의 특성(Feature)이 존재.\n",
        "- 현재 사용하는 알고리즘에서 중요도를 표시해주는 것"
      ],
      "metadata": {
        "id": "F0TtZBYC1QAw"
      }
    },
    {
      "cell_type": "code",
      "source": [
        "rf.fit(train_input, train_target)\n",
        "\n",
        "#특징의 중요도 -> 당도가 가장 중요함.\n",
        "print(rf.feature_importances_)"
      ],
      "metadata": {
        "colab": {
          "base_uri": "https://localhost:8080/"
        },
        "id": "4x4NLlkL2FPQ",
        "outputId": "12f24437-7aac-4f10-a095-5e3cefa273ed"
      },
      "execution_count": 27,
      "outputs": [
        {
          "output_type": "stream",
          "name": "stdout",
          "text": [
            "[0.23167441 0.50039841 0.26792718]\n"
          ]
        }
      ]
    },
    {
      "cell_type": "markdown",
      "source": [
        "- [0.23167441 0.50039841 0.26792718]\n",
        "-    알코올      당도        pH"
      ],
      "metadata": {
        "id": "KRnxy7gq2fHI"
      }
    },
    {
      "cell_type": "code",
      "source": [
        "import seaborn as sns\n",
        "\n",
        "#sns.scatterplot(data = wine, x = 'pH', y='sugar', hue='class')\n",
        "sns.boxplot(data = wine, x='class', y='sugar')\n",
        "#sns.boxplot(data = wine, x='class', y='alcohol')\n",
        "#sns.boxplot(data = wine, x='class', y='pH')\n"
      ],
      "metadata": {
        "colab": {
          "base_uri": "https://localhost:8080/",
          "height": 297
        },
        "id": "1uqEdctQ2qTg",
        "outputId": "409dd606-ee52-4926-9d7e-cde2bbe88dd3"
      },
      "execution_count": 34,
      "outputs": [
        {
          "output_type": "execute_result",
          "data": {
            "text/plain": [
              "<matplotlib.axes._subplots.AxesSubplot at 0x7fbacf9ff890>"
            ]
          },
          "metadata": {},
          "execution_count": 34
        },
        {
          "output_type": "display_data",
          "data": {
            "text/plain": [
              "<Figure size 432x288 with 1 Axes>"
            ],
            "image/png": "[encoded data removed]"
          },
          "metadata": {
            "needs_background": "light"
          }
        }
      ]
    },
    {
      "cell_type": "markdown",
      "source": [
        "- 복원 추출\n",
        "  + 한번도 추출이 안된 샘플이 있을 수 있음"
      ],
      "metadata": {
        "id": "mt6mzaWA39yI"
      }
    },
    {
      "cell_type": "code",
      "source": [
        "rf = RandomForestClassifier(n_jobs=-1, oob_score=True, random_state = 42)\n",
        "rf.fit(train_input, train_target)\n",
        "print(rf.oob_score_) #한번도 추출이 안된 샘플..?\n",
        "print(rf.score(train_input, train_target))\n",
        "print(rf.score(test_input, test_target))\n"
      ],
      "metadata": {
        "colab": {
          "base_uri": "https://localhost:8080/"
        },
        "id": "LPggIUXv38a3",
        "outputId": "689016f9-780a-4e5b-a616-165be0172944"
      },
      "execution_count": 37,
      "outputs": [
        {
          "output_type": "stream",
          "name": "stdout",
          "text": [
            "0.8934000384837406\n",
            "0.996921300750433\n",
            "0.8892307692307693\n"
          ]
        }
      ]
    },
    {
      "cell_type": "markdown",
      "source": [
        "## 확률적 경사하강법(Stochastic Gradient Descent)\n",
        "- 점진적 학습\n",
        "  + 대표 알고리즘 : 확률적 경사 하강법\n",
        "  + 확률적 : 무작위 데이터 \n",
        "- 훈련세트 분리\n",
        "  + 샘플 뽑기\n",
        "    + 확률적 경사하강법 : 1개씩 뽑기\n",
        "    + 미니배치 경사 하강법 : 여러개씩 뽑기\n",
        "    + 배치 경사 하강법 : 몽땅 꺼내기\n",
        "  + 조금씩 경사 및 기울기를 따라 이동\n",
        "  + 모든 훈련세트 소진 : 1 에포크 끝.\n",
        "\n",
        "- 손실함수(loss function)\n",
        "  + 머신러닝 알고리즘이 얼마나 잘 못맞추느냐 측정하는 기준.\n",
        "  + 손실 함수의 값은 작을 수록 좋음\n",
        "  \n",
        "\n"
      ],
      "metadata": {
        "id": "k_8271Ia80st"
      }
    },
    {
      "cell_type": "markdown",
      "source": [
        "## 그레이디언트부스팅\n",
        "- 처음에 샘플 뽑고, 경사하강법 적용.\n",
        "  + 사용하는 모델은 결정 트리(Decision Tree)\n"
      ],
      "metadata": {
        "id": "50ba008BDk5e"
      }
    },
    {
      "cell_type": "code",
      "source": [
        "from sklearn.ensemble import GradientBoostingClassifier\n",
        "gb = GradientBoostingClassifier(n_estimators = 500,\n",
        "                                learning_rate=0.2,\n",
        "                                subsample=0.5, #전체 훈련 세트(1.0)\n",
        "                                random_state=42)\n",
        "\n",
        "scores = cross_validate(gb, train_input, train_target, return_train_score=True, n_jobs=-1)\n",
        "\n",
        "print(np.mean(scores['train_score']), np.mean(scores['test_score']))"
      ],
      "metadata": {
        "colab": {
          "base_uri": "https://localhost:8080/"
        },
        "id": "ArzIESkME6UG",
        "outputId": "c737cf3c-9b16-44c3-a5b9-9bad8d5138c4"
      },
      "execution_count": 42,
      "outputs": [
        {
          "output_type": "stream",
          "name": "stdout",
          "text": [
            "0.9434289514154802 0.8751230843266453\n"
          ]
        }
      ]
    },
    {
      "cell_type": "markdown",
      "source": [
        "## XGBoost vs LightGBM\n",
        "- Decision Tree\n",
        "   + 노드가 분기 시, 속도 차이 존재\n",
        "    - LightGBM (> XGBoost) 를 더 많이 사용\n",
        "- GPU 지원 여부\n",
        "  + 기존) 선형회귀, 결정트리, 랜덤포레스트, 일반 부스팅 => 지원 안됨(X)\n",
        "  + XGBoost, LightGBM ) 지원 됨(O)\n",
        "- 공통적인 특징 (문법상 미세한 차이 발생)\n",
        "  + Scikit-Learn과 연동된 API\n",
        "  + 독자적인 API\n",
        "    - 두가지가 존재하다보니, 약간의 문법적 혼동이 올 수 있음.\n",
        "      + 기존) pandas 데이터 프레임 -> numpy배열 -> scikit-learn\n",
        "      + lightGBM ) pandas 데이터 프레임 -> numpy배열 -> DataSet API -> 모델\n",
        "      + XGBoost ) pandas 데이터 프레임 -> numpy배열 -> DMatrix -> 모델\n"
      ],
      "metadata": {
        "id": "1hPFjkkrKZE8"
      }
    },
    {
      "cell_type": "markdown",
      "source": [
        "### Scikit-Learn API"
      ],
      "metadata": {
        "id": "lpE2pj66OCRb"
      }
    },
    {
      "cell_type": "code",
      "source": [
        "from xgboost import XGBClassifier\n",
        "xgb = XGBClassifier(tree_method='hist', random_state = 42)\n",
        "scores = cross_validate(xgb, train_input, train_target, return_train_score=True)\n",
        "\n",
        "print(np.mean(scores['train_score']), np.mean(scores['test_score']))"
      ],
      "metadata": {
        "colab": {
          "base_uri": "https://localhost:8080/"
        },
        "id": "aPFMZCTQOAqH",
        "outputId": "3d755795-490e-48ac-9bd1-d3e5c5356ca5"
      },
      "execution_count": 46,
      "outputs": [
        {
          "output_type": "stream",
          "name": "stdout",
          "text": [
            "0.8824322471423747 0.8726214185237284\n"
          ]
        }
      ]
    },
    {
      "cell_type": "code",
      "source": [
        "from lightgbm import LGBMClassifier\n",
        "lgb = LGBMClassifier(random_state=42)\n",
        "\n",
        "scores = cross_validate(lgb, train_input, train_target, return_train_score=True)\n",
        "print(np.mean(scores['train_score']), np.mean(scores['test_score']))"
      ],
      "metadata": {
        "colab": {
          "base_uri": "https://localhost:8080/"
        },
        "id": "L54O5JkAOkvU",
        "outputId": "f707cf39-a71c-4ace-e39d-cf4b382399ae"
      },
      "execution_count": 47,
      "outputs": [
        {
          "output_type": "stream",
          "name": "stdout",
          "text": [
            "0.9338079582727165 0.8789710890649293\n"
          ]
        }
      ]
    },
    {
      "cell_type": "markdown",
      "source": [
        "머신러닝 프로세스\n",
        "- 데이터 수집\n",
        "- 데이터 전처리\n",
        "  + Feature Engineering ( 표준화 ) <- 각 수치 데이터의 단위가 달라서.\n",
        "- 머신러닝 모델\n",
        "  + 분류\n",
        "  + 회귀(수치 예측)\n",
        "  + KNL, 선형회귀, 로지스틱회귀, 결정트리(랜덤포레스트 등), 경사하강법\n",
        "- 하이퍼파라미터, 교차검증\n",
        "  + 그리드 서치\n",
        "  + 랜덤 서치\n",
        "- 평가 지표 ( 안배움  ㅠ )\n",
        "  + 분류 : 정확도\n",
        "  + 회귀 : MAE\n"
      ],
      "metadata": {
        "id": "L45LbzzwQUXz"
      }
    },
    {
      "cell_type": "code",
      "source": [],
      "metadata": {
        "id": "Ad1KMIr2TS2r"
      },
      "execution_count": null,
      "outputs": []
    }
  ]
}