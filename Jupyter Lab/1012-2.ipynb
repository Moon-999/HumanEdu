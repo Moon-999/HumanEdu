{
 "cells": [
  {
   "cell_type": "code",
   "execution_count": 1,
   "id": "e6bde28e-a3a3-4c05-aa0c-7bb67cc5d2d7",
   "metadata": {},
   "outputs": [],
   "source": [
    "#DOM구조의 태그를 검색하여 데이터를 긁어오는 스크래핑\n",
    "#Document Object Modeling\n",
    "#javascript 또는 html로 출력하는 웹브라우저의 모델형태\n",
    "#BeautifulSoup : 파이썬 인터프린트 안에서 동작하는 스크래핑\n",
    "#Selenium : 파이썬 외부에서 특정 드라이브를 사용하여 스크래핑\n",
    "from bs4 import BeautifulSoup\n",
    "#request HTTP프로토콜로 데이터 요청하고 받아오는 객체를 담고 있는 패키지\n",
    "#ResponseBody(리턴하는 값) <> Request(클라이언트에서 요청오는 값)\n",
    "import requests\n",
    "import re\n",
    "#xml 포맷(확장자)로 데이터를 송수신할때 전송하는 포맷형식(<json)\n",
    "import lxml"
   ]
  },
  {
   "cell_type": "code",
   "execution_count": 2,
   "id": "b4a6d9f4-6627-4fdf-9ba2-670a92b0ea22",
   "metadata": {},
   "outputs": [],
   "source": [
    "import pandas as pd"
   ]
  },
  {
   "cell_type": "code",
   "execution_count": 3,
   "id": "c11c766b-e897-4ce1-b296-0d62f9dcfdbd",
   "metadata": {},
   "outputs": [
    {
     "name": "stdout",
     "output_type": "stream",
     "text": [
      "{}\n"
     ]
    }
   ],
   "source": [
    "file_path ='./iris.csv'\n",
    "df1 = pd.read_csv(file_path)\n",
    "#read_excel() : 엑셀파일 로드 가능\n",
    "#html = response.text => url주소로 스크래핑한 값을 저장\n",
    "#soup = BeautifulSoup(html, 'lxml') => BeautifulSoup라이브러리를 사용하고 ()인자값으로 포맷형식을 씀\n",
    "url = \"https://en.wikipedia.org/wiki/List_of_American_exchange-traded_funds\"\n",
    "resp = requests.get(url)\n",
    "soup = BeautifulSoup(resp.text, 'lxml')\n",
    "rows = soup.select('div>ul>li')\n",
    "etfs = {}\n",
    "#향상된 반복문 : rows배열을 모두 조회하여 하나씩 꺼내옴\n",
    "for row in rows:\n",
    "    try:\n",
    "        etf_name = re.findall('^(.*) \\(NYSE', row.text)\n",
    "        etf_market = re.findall('\\((.*)\\|', row.text)\n",
    "        etf_ticker = re.findall('NYSE Arca\\|(.*)\\)', row.text)\n",
    "        \n",
    "        # print(etf_ticker)\n",
    "        \n",
    "        if(len(etf_ticker) > 0) & (len(etf_market)>0) & (len(etf_name) > 0):\n",
    "            etfs[etf_ticker[0]] = [etf_market[0], etf_name[0]]\n",
    "    except AttributeError as err:\n",
    "        pass\n",
    "\n",
    "print(etfs)"
   ]
  },
  {
   "cell_type": "code",
   "execution_count": 4,
   "id": "52fb6a18-b378-4eef-91d9-e0ca883b0458",
   "metadata": {},
   "outputs": [
    {
     "name": "stdout",
     "output_type": "stream",
     "text": [
      "     sepal.length\n",
      "0             5.1\n",
      "1             4.9\n",
      "2             4.7\n",
      "3             4.6\n",
      "4             5.0\n",
      "..            ...\n",
      "145           6.7\n",
      "146           6.3\n",
      "147           6.5\n",
      "148           6.2\n",
      "149           5.9\n",
      "\n",
      "[150 rows x 1 columns]\n"
     ]
    }
   ],
   "source": [
    "print(df1.iloc[:,:1])"
   ]
  },
  {
   "cell_type": "code",
   "execution_count": 5,
   "id": "b6ed01f8-0f55-49da-b9d4-0f5c2f2f8385",
   "metadata": {},
   "outputs": [],
   "source": [
    "import seaborn as sns\n",
    "import matplotlib.pyplot as plt\n",
    "iris = sns.load_dataset('iris')"
   ]
  },
  {
   "cell_type": "code",
   "execution_count": 6,
   "id": "21440865-f4c3-47cc-9452-6d3d6c0cb5bd",
   "metadata": {},
   "outputs": [
    {
     "name": "stdout",
     "output_type": "stream",
     "text": [
      "0         setosa\n",
      "1         setosa\n",
      "2         setosa\n",
      "3         setosa\n",
      "4         setosa\n",
      "         ...    \n",
      "145    virginica\n",
      "146    virginica\n",
      "147    virginica\n",
      "148    virginica\n",
      "149    virginica\n",
      "Name: species, Length: 150, dtype: object\n"
     ]
    }
   ],
   "source": [
    "X = iris.iloc[:, :-1]\n",
    "y = iris.iloc[:, -1]\n",
    "print(y)\n",
    "#머신러닝은 답을 알려줌 -> 알아서 결과를 도출함\n",
    "#딥러닝은 답을 안알려줌 -> 결과를 스스로 도출해야함"
   ]
  },
  {
   "cell_type": "code",
   "execution_count": 7,
   "id": "5d5b6599-d75e-4a52-b4d0-3384b9718a2a",
   "metadata": {},
   "outputs": [],
   "source": [
    "from sklearn.model_selection import train_test_split"
   ]
  },
  {
   "cell_type": "code",
   "execution_count": 8,
   "id": "1dfd7b8c-3da2-4d2a-9e38-2f01452aebb8",
   "metadata": {},
   "outputs": [
    {
     "name": "stdout",
     "output_type": "stream",
     "text": [
      "train data =  105\n",
      "test data =  45\n"
     ]
    }
   ],
   "source": [
    "train_X, test_X, train_y, test_y = train_test_split(X, y,\n",
    "                                                    test_size=0.3,\n",
    "                                                    random_state=1)\n",
    "print('train data = ' , len(train_X))\n",
    "print('test data = ', len(test_X))"
   ]
  },
  {
   "cell_type": "code",
   "execution_count": 9,
   "id": "254636c2-43d1-4737-9b67-333945864598",
   "metadata": {},
   "outputs": [
    {
     "name": "stdout",
     "output_type": "stream",
     "text": [
      "<class 'pandas.core.frame.DataFrame'>\n",
      "RangeIndex: 150 entries, 0 to 149\n",
      "Data columns (total 4 columns):\n",
      " #   Column        Non-Null Count  Dtype  \n",
      "---  ------        --------------  -----  \n",
      " 0   sepal_length  150 non-null    float64\n",
      " 1   sepal_width   150 non-null    float64\n",
      " 2   petal_length  150 non-null    float64\n",
      " 3   petal_width   150 non-null    float64\n",
      "dtypes: float64(4)\n",
      "memory usage: 4.8 KB\n"
     ]
    }
   ],
   "source": [
    "# X.head()\n",
    "X.info() #info()메서드를 통해 전처리가 필요한 데이터를 1차적 유추, 데이터타입도 중요\n",
    "# y.head()"
   ]
  },
  {
   "cell_type": "code",
   "execution_count": 10,
   "id": "e5aeefb8-5635-40ac-986b-1843151ccb8d",
   "metadata": {},
   "outputs": [
    {
     "data": {
      "text/plain": [
       "array([[-0.90068117,  1.01900435, -1.34022653, -1.3154443 ],\n",
       "       [-1.14301691, -0.13197948, -1.34022653, -1.3154443 ],\n",
       "       [-1.38535265,  0.32841405, -1.39706395, -1.3154443 ],\n",
       "       [-1.50652052,  0.09821729, -1.2833891 , -1.3154443 ],\n",
       "       [-1.02184904,  1.24920112, -1.34022653, -1.3154443 ]])"
      ]
     },
     "execution_count": 10,
     "metadata": {},
     "output_type": "execute_result"
    }
   ],
   "source": [
    "from sklearn.preprocessing import scale\n",
    "#scale() 평균=0, 표준편차=1\n",
    "iris_scaled = scale(X)\n",
    "# print(iris_scaled)\n",
    "iris_scaled[:5, :]"
   ]
  },
  {
   "cell_type": "code",
   "execution_count": 11,
   "id": "ff7445ea-d4e2-467b-aecf-b24412a24d85",
   "metadata": {},
   "outputs": [
    {
     "data": {
      "text/plain": [
       "array([-4.73695157e-16, -7.81597009e-16, -4.26325641e-16, -4.73695157e-16])"
      ]
     },
     "execution_count": 11,
     "metadata": {},
     "output_type": "execute_result"
    }
   ],
   "source": [
    "#axis = 축 : 0(세로 기준으로 늘어나거나 축소) / 1(가로 기준으로 늘어나거나 축소)\n",
    "iris_scaled.mean(axis=0)"
   ]
  },
  {
   "cell_type": "code",
   "execution_count": null,
   "id": "5ff216a0-be2c-423d-b00d-376b37fec3ea",
   "metadata": {},
   "outputs": [],
   "source": [
    "#표준편차\n",
    "#*편차 : 원래값에서 평균을 뺀 값 (음수 양수 모두 성립)\n",
    "#음수를 양수로 만들 기 위해 편차의 제곱의 합 분산이 등장\n",
    "#분산에 루트를 씌운 것이 표준편차 = 원래 데이터에 대한 오차 범위의 근사값"
   ]
  }
 ],
 "metadata": {
  "kernelspec": {
   "display_name": "Python 3 (ipykernel)",
   "language": "python",
   "name": "python3"
  },
  "language_info": {
   "codemirror_mode": {
    "name": "ipython",
    "version": 3
   },
   "file_extension": ".py",
   "mimetype": "text/x-python",
   "name": "python",
   "nbconvert_exporter": "python",
   "pygments_lexer": "ipython3",
   "version": "3.9.0"
  }
 },
 "nbformat": 4,
 "nbformat_minor": 5
}
