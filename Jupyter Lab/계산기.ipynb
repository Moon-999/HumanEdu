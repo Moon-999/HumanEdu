{
 "cells": [
  {
   "cell_type": "code",
   "execution_count": 1,
   "id": "211c5d06-bc7d-40ac-afda-ec881ddd1a22",
   "metadata": {},
   "outputs": [],
   "source": [
    "#계산기 로그 남기기\n",
    "import pandas as pd"
   ]
  },
  {
   "cell_type": "code",
   "execution_count": 2,
   "id": "43a56f2f-21c9-4adc-b4ae-19be1ef97459",
   "metadata": {},
   "outputs": [
    {
     "name": "stdout",
     "output_type": "stream",
     "text": [
      "     log      date\n",
      "0  20*20  20221012\n"
     ]
    }
   ],
   "source": [
    "exam_data = {'log' : ['20*20'],\n",
    "            'date' : ['20221012']}\n",
    "global df\n",
    "df = pd.DataFrame(exam_data)\n",
    "print(df)"
   ]
  },
  {
   "cell_type": "code",
   "execution_count": 5,
   "id": "5732c5f7-1e8e-45d2-abff-547c00c6bb10",
   "metadata": {},
   "outputs": [],
   "source": [
    "def Insert(input_log, input_date):\n",
    "    global df\n",
    "    df.loc[len(df)] = [input_log, input_date]"
   ]
  },
  {
   "cell_type": "code",
   "execution_count": 6,
   "id": "6bf9b0e3-19c4-4218-b7a0-c9ec02dba754",
   "metadata": {},
   "outputs": [
    {
     "name": "stdout",
     "output_type": "stream",
     "text": [
      "     log      date\n",
      "0  20*20  20221012\n",
      "1  40*40  20221012\n"
     ]
    }
   ],
   "source": [
    "Insert('40*40', '20221012')\n",
    "print(df)"
   ]
  },
  {
   "cell_type": "code",
   "execution_count": null,
   "id": "c264a2a5-6327-4a24-abfb-aae53e8245ad",
   "metadata": {},
   "outputs": [],
   "source": [
    "#1.날짜를 자동으로 생성해주는 메서드를 사용하여 Insert메서드에 활용\n",
    "#2.계산하는 메서드를 만들고, 계산내용을 Insert와 연동할 수 있는 아이디어를 생각하고 구현하시오."
   ]
  },
  {
   "cell_type": "code",
   "execution_count": 20,
   "id": "fb96d665-730e-46f5-bf62-dfbc3d292489",
   "metadata": {},
   "outputs": [
    {
     "name": "stdout",
     "output_type": "stream",
     "text": [
      "     log        date\n",
      "0  20*20    20221012\n",
      "1  40*40    20221012\n",
      "2  40*40        None\n",
      "3  40*40  2022-10-12\n"
     ]
    }
   ],
   "source": [
    "#날짜 자동생성\n",
    "import datetime\n",
    "now = datetime.date.today()\n",
    "Insert('40*40',now)\n",
    "print(df)\n"
   ]
  },
  {
   "cell_type": "code",
   "execution_count": 25,
   "id": "c4d450c5-e531-4ff2-b727-633cca50c49e",
   "metadata": {},
   "outputs": [
    {
     "name": "stdout",
     "output_type": "stream",
     "text": [
      "     log        date\n",
      "0  20*20    20221012\n",
      "1  40*40    20221012\n",
      "2  40*40        None\n",
      "3  40*40  2022-10-12\n",
      "4   None  2022-10-12\n",
      "5   None  2022-10-12\n",
      "6   1600  2022-10-12\n",
      "7   1600  2022-10-12\n",
      "8  40*40  2022-10-12\n"
     ]
    }
   ],
   "source": [
    "def calc(num1,num2):\n",
    "    result = str(num1) + '*' + str(num2)\n",
    "    return result\n",
    "Insert(calc(40,40),now)\n",
    "print(df)"
   ]
  },
  {
   "cell_type": "code",
   "execution_count": null,
   "id": "db01d8bc-c75b-4a26-8e09-e157d9a950d4",
   "metadata": {},
   "outputs": [],
   "source": [
    "#"
   ]
  },
  {
   "cell_type": "code",
   "execution_count": null,
   "id": "5feee148-42c0-48a2-ad68-b4e563ff011a",
   "metadata": {},
   "outputs": [],
   "source": []
  }
 ],
 "metadata": {
  "kernelspec": {
   "display_name": "Python 3 (ipykernel)",
   "language": "python",
   "name": "python3"
  },
  "language_info": {
   "codemirror_mode": {
    "name": "ipython",
    "version": 3
   },
   "file_extension": ".py",
   "mimetype": "text/x-python",
   "name": "python",
   "nbconvert_exporter": "python",
   "pygments_lexer": "ipython3",
   "version": "3.9.0"
  }
 },
 "nbformat": 4,
 "nbformat_minor": 5
}
