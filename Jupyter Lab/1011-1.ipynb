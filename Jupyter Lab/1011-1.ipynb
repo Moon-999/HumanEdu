{
 "cells": [
  {
   "cell_type": "code",
   "execution_count": 1,
   "id": "69e146cf-29b7-44c5-a4d6-51f11ead724f",
   "metadata": {},
   "outputs": [
    {
     "name": "stdout",
     "output_type": "stream",
     "text": [
      "Hello World\n"
     ]
    }
   ],
   "source": [
    "print(\"Hello World\")"
   ]
  },
  {
   "cell_type": "code",
   "execution_count": 2,
   "id": "7ffd6c52-861c-46f1-9f7d-5824a6ea16a7",
   "metadata": {},
   "outputs": [
    {
     "name": "stdout",
     "output_type": "stream",
     "text": [
      "정문희\n"
     ]
    }
   ],
   "source": [
    "#자바 :정적타입 : 개발자가 타입을 명시 : ex) String name = \"정문희\";\n",
    "#파이썬 : 동적타입 : 메모리에 할당 된 값을 보고 언어가 유추하여 타입 지정 : ex) name = \"정문희\";\n",
    "name = \"정문희\"\n",
    "print(name)"
   ]
  },
  {
   "cell_type": "code",
   "execution_count": 3,
   "id": "4ff19cc5-b66c-4cd1-a2cd-03e645948185",
   "metadata": {},
   "outputs": [
    {
     "name": "stdout",
     "output_type": "stream",
     "text": [
      "휴먼교육센터 3클래스 정문희\n"
     ]
    }
   ],
   "source": [
    "class1 = \"휴먼교육센터 3클래스\"\n",
    "print(class1, name)\n",
    "#= print(class1 + name)"
   ]
  },
  {
   "cell_type": "code",
   "execution_count": 8,
   "id": "1ff079df-8a02-4589-a144-30627852fe67",
   "metadata": {},
   "outputs": [
    {
     "name": "stdout",
     "output_type": "stream",
     "text": [
      "<class 'pandas.core.series.Series'>\n",
      "\n",
      "\n",
      "a       1\n",
      "b       2\n",
      "c       3\n",
      "정문희    학생\n",
      "dtype: object\n"
     ]
    }
   ],
   "source": [
    "#import : 라이브러리 pandas를 가져다 씀 / as : 별칭 정하기\n",
    "import pandas as pd\n",
    "#dict_data : 변수 : 변화하는 수 (<>상수)\n",
    "#우측항 데이터를 좌측 항 변수에 저장(할당)\n",
    "# 'a' : 1 (a를 호출하면 1이라는 값 출력)\n",
    "dict_data = {'a':1, 'b':2, 'c':3, '정문희':'학생'}\n",
    "#pd.(판다스의 별칭)의 Series메서드를 실행\n",
    "#인자값 dict_data를 넣음\n",
    "sr = pd.Series(dict_data)\n",
    "print(type(sr))\n",
    "print('\\n')\n",
    "print(sr)"
   ]
  },
  {
   "cell_type": "code",
   "execution_count": null,
   "id": "b1b7de22-b05a-4ded-9511-aa7ad7ff4b5b",
   "metadata": {},
   "outputs": [],
   "source": []
  },
  {
   "cell_type": "code",
   "execution_count": 9,
   "id": "4f16bc60-467d-4464-ae34-a5df71c07c85",
   "metadata": {},
   "outputs": [
    {
     "name": "stdout",
     "output_type": "stream",
     "text": [
      "0    2019-01-02\n",
      "1          2.14\n",
      "2           ABC\n",
      "3           100\n",
      "4          True\n",
      "dtype: object\n"
     ]
    }
   ],
   "source": [
    "#참조타입 : 변수와 변수값을 연결하는 타입\n",
    "list_data = ['2019-01-02', 2.14, 'ABC', 100, True]\n",
    "#sr이라는 변수이름의 원래 데이터는 dict_data였으나,\n",
    "#list_data로 만들어진 값을 sr변수에 대체 연결\n",
    "sr = pd.Series(list_data)\n",
    "print(sr)"
   ]
  },
  {
   "cell_type": "code",
   "execution_count": 13,
   "id": "3765056a-c17b-413a-9346-d1736ea5481f",
   "metadata": {},
   "outputs": [
    {
     "name": "stdout",
     "output_type": "stream",
     "text": [
      "나의 이름은 : jmh1234\n"
     ]
    }
   ],
   "source": [
    "#학생의 개인정보를 저장하는 딕셔너리 배열을 만들고, \n",
    "#(이름, id, password, 성별 등등) 그 중에 이름을 출력하는 print메서드를 실행하시오.\n",
    "#{}:중괄호 : map{key:value}\n",
    "#[]:대괄호 : 배열[1,2,3,4,...]\n",
    "Student = {'이름' : '정문희', 'id' : 'moon', 'pw' : 'jmh1234', '성별' : 'F'}\n",
    "#향상된 반복문\n",
    "#자바) for(String item : stringArray)\n",
    "#기본 반복문과 동일하나, 배열 처음부터 끝까지 모두 조회를 간략화한 코드 \n",
    "#파이썬)\n",
    "#item in itemArray:\n",
    "#itemArray 배열을 모두 순회하면서 하나씩 가져옴\n",
    "if '이름' in Student:\n",
    "    print('나의 이름은 : '+Student['이름'])\n",
    "else:\n",
    "    print('이름 없음')\n"
   ]
  },
  {
   "cell_type": "code",
   "execution_count": 35,
   "id": "cd66a325-d858-424b-8980-9e8e4667255c",
   "metadata": {},
   "outputs": [
    {
     "name": "stdout",
     "output_type": "stream",
     "text": [
      "이름        정문희\n",
      "id       moon\n",
      "pw    jmh1234\n",
      "성별          F\n",
      "dtype: object\n"
     ]
    }
   ],
   "source": [
    "sr = pd.Series(Student, index = ['이름','id','pw','성별'])\n",
    "print(sr)"
   ]
  },
  {
   "cell_type": "code",
   "execution_count": 45,
   "id": "c53857d0-7f20-41e9-b2eb-f8a3d089d9ef",
   "metadata": {},
   "outputs": [
    {
     "name": "stdout",
     "output_type": "stream",
     "text": [
      "    나이 성별   학교\n",
      "준서  15  남  덕영중\n",
      "예은  17  여  수리중\n",
      "나이     15\n",
      "성별      남\n",
      "학교    덕영중\n",
      "Name: 준서, dtype: object\n"
     ]
    }
   ],
   "source": [
    "df=pd.DataFrame([[15,'남','덕영중'],[17,'여','수리중']], index=['준서','예은'], columns = ['나이','성별','학교'])\n",
    "print(df)\n",
    "print(df.loc['준서'])"
   ]
  },
  {
   "cell_type": "code",
   "execution_count": 51,
   "id": "e9fe1775-02bf-4550-bb39-d95e3750b5c5",
   "metadata": {},
   "outputs": [
    {
     "name": "stdout",
     "output_type": "stream",
     "text": [
      "    수학  영어   음악   체육\n",
      "서준  90  98   85  100\n",
      "우현  80  89   95   90\n",
      "인아  70  95  100   90\n",
      "-------------------\n",
      "    수학  영어   음악   체육\n",
      "서준  90  98   85  100\n",
      "인아  70  95  100   90\n",
      "--------------------\n",
      "    수학  영어  음악   체육\n",
      "서준  90  98  85  100\n"
     ]
    }
   ],
   "source": [
    "exam_data = {'수학' : [90,80,70], '영어': [98,89,95],\n",
    "            '음악' : [85,95,100], '체육':[100,90,90]}\n",
    "df = pd.DataFrame(exam_data, index =['서준','우현','인아'])\n",
    "print(df)\n",
    "print('-------------------')\n",
    "\n",
    "df2 = df[:]\n",
    "df2 = df2.drop('우현')\n",
    "print(df2)\n",
    "print('--------------------')\n",
    "df3 = df[:]\n",
    "df3= df3.drop(['우현','인아'], axis=0)\n",
    "print(df3)"
   ]
  },
  {
   "cell_type": "code",
   "execution_count": 64,
   "id": "e6f08d2b-dabb-4f82-bb8c-15c093dcb7f1",
   "metadata": {},
   "outputs": [
    {
     "name": "stdout",
     "output_type": "stream",
     "text": [
      "   이름  수학  영어   음악   체육\n",
      "0  서준  90  98   85  100\n",
      "1  우현  80  89   95   90\n",
      "2  인아  70  95  100   90\n",
      "------------\n",
      "   이름  수학  영어   음악   체육\n",
      "0  서준  90  98   85  100\n",
      "1  우현  80  89   95   90\n",
      "2  인아  70  95  100   90\n",
      "3   0   0   0    0    0\n",
      "------------\n",
      "   이름  수학  영어   음악   체육\n",
      "0  서준  90  98   85  100\n",
      "1  우현  80  89   95   90\n",
      "2  인아  70  95  100   90\n",
      "3   0   0   0    0    0\n",
      "4  동규  90  80   70   60\n",
      "------------\n",
      "    이름  수학  영어   음악   체육\n",
      "0   서준  90  98   85  100\n",
      "1   우현  80  89   95   90\n",
      "2   인아  70  95  100   90\n",
      "3    0   0   0    0    0\n",
      "4   동규  90  80   70   60\n",
      "행5   0   0   0    0    0\n",
      "------------\n",
      "None\n"
     ]
    }
   ],
   "source": [
    "exam_data = {'이름' : ['서준','우현','인아'],\n",
    "             '수학' : [90,80,70],\n",
    "             '영어' : [98,89,95],\n",
    "             '음악' : [85,95,100],\n",
    "             '체육' : [100, 90, 90]}\n",
    "df = pd.DataFrame(exam_data)\n",
    "print(df)\n",
    "print('------------')\n",
    "df.loc[3] = 0\n",
    "print(df)\n",
    "print('------------')\n",
    "#자바는 고정, 가변 배열이 나누어진 반면, \n",
    "#파이썬의 데이터 프레임은 바로 배열 번호를 작성하면 자유롭게 추가가능\n",
    "df.loc[4] = ['동규', 90,80,70,60]\n",
    "print(df)\n",
    "print('------------')\n",
    "df.loc['행5'] = df.loc[3]\n",
    "print(df)\n",
    "print('------------')\n",
    "df=df.set_index('이름', inplace=True)\n",
    "print(df)"
   ]
  },
  {
   "cell_type": "code",
   "execution_count": 61,
   "id": "42a6e38a-529e-4647-a5dd-7e305df42264",
   "metadata": {},
   "outputs": [
    {
     "name": "stdout",
     "output_type": "stream",
     "text": [
      "    수학  영어   음악  체육\n",
      "이름                 \n",
      "서준  90  98   85  80\n",
      "우현  80  89   95  90\n",
      "인아  70  95  100  90\n",
      "0    0   0    0   0\n",
      "동규  90  80   70  60\n",
      "0    0   0    0   0\n",
      "------------\n",
      "    수학  영어   음악  체육\n",
      "이름                 \n",
      "서준  90  98   85  90\n",
      "우현  80  89   95  90\n",
      "인아  70  95  100  90\n",
      "0    0   0    0   0\n",
      "동규  90  80   70  60\n",
      "0    0   0    0   0\n",
      "------------\n",
      "    수학  영어   음악  체육\n",
      "이름                 \n",
      "서준  90  98   50  50\n",
      "우현  80  89   95  90\n",
      "인아  70  95  100  90\n",
      "0    0   0    0   0\n",
      "동규  90  80   70  60\n",
      "0    0   0    0   0\n"
     ]
    }
   ],
   "source": [
    "df.iloc[0][3]=80\n",
    "print(df)\n",
    "print('------------')\n",
    "df.loc['서준']['체육'] = 90\n",
    "print(df)\n",
    "print('------------')\n",
    "df.loc['서준',['음악','체육']]=50\n",
    "print(df)"
   ]
  },
  {
   "cell_type": "code",
   "execution_count": 66,
   "id": "bc2025f4-e470-4039-b72f-cd95ca48d5a8",
   "metadata": {},
   "outputs": [
    {
     "name": "stdout",
     "output_type": "stream",
     "text": [
      "      0   1    2\n",
      "이름   서준  우현   인아\n",
      "수학   90  80   70\n",
      "영어   98  89   95\n",
      "음악   85  95  100\n",
      "체육  100  90   90\n",
      "------------\n",
      "   이름  수학  영어   음악   체육\n",
      "0  서준  90  98   85  100\n",
      "1  우현  80  89   95   90\n",
      "2  인아  70  95  100   90\n"
     ]
    }
   ],
   "source": [
    "df = pd.DataFrame(df)\n",
    "df = df.transpose()\n",
    "print(df)\n",
    "print('------------')\n",
    "df = df.T #(클래스로 전치행렬) 하지만, 파이썬은 메서드를 사용하여 데이터를 처리함.\n",
    "print(df)"
   ]
  },
  {
   "cell_type": "code",
   "execution_count": null,
   "id": "f1fbcdc7-11a1-474c-9134-fac4e66ea8a6",
   "metadata": {},
   "outputs": [],
   "source": [
    "#데이터프레임은 2중배열로 columns와 rows로 구성되어있음\n",
    "#df.loc[위치] : 튜플 추가\n",
    "#drop : row(튜플) 삭제\n",
    "#set_index : 어떤 열을 인덱스로 설정함.\n",
    "#.transpose() : 행과 열의 위치 바꾸기"
   ]
  },
  {
   "cell_type": "code",
   "execution_count": 9,
   "id": "e1b4592d-19a7-4372-81ea-1186770c5f6a",
   "metadata": {},
   "outputs": [
    {
     "name": "stdout",
     "output_type": "stream",
     "text": [
      "   이름  수학  영어   음악   체육\n",
      "0  서준  90  98   85  100\n",
      "1  우현  80  89   95   90\n",
      "2  인아  70  95  100   90\n",
      "3  준수  10  20   30   40\n",
      "-------------\n",
      "   이름   수학  영어   음악   체육\n",
      "0  서준   90  98   85  100\n",
      "1  우현   80  89   95   90\n",
      "2  인아   70  95  100   90\n",
      "3  준수  100  90   80   70\n",
      "-------------\n",
      "   이름  수학  영어   음악   체육\n",
      "0  서준  90  98   85  100\n",
      "1  우현  80  89   95   90\n",
      "2  인아  70  95  100   90\n"
     ]
    }
   ],
   "source": [
    "#학생 회원의 정보를 담는 데이터프레임을 만들고 추가, 삭제, 변경하는 메서드 만들기\n",
    "#ex) 이름, 학번, 성별, 입학날짜, 기타사항 .. 컬럽(데이터프레임)을 만들고\n",
    "#loc[len()],drop, set_index()를 각각 실행하는 def 메서드 3개를 만들어 실행하는 코드 작성\n",
    "#*SOLID 원칙에서 하나의 메서드는 하나의 기능만 실행가능하게 만들기\n",
    "import pandas as pd\n",
    "exam_data = {'이름' : ['서준','우현','인아'],\n",
    "             '수학' : [90,80,70],\n",
    "             '영어' : [98,89,95],\n",
    "             '음악' : [85,95,100],\n",
    "             '체육' : [100, 90, 90]}\n",
    "global ef\n",
    "ef = pd.DataFrame(exam_data)\n",
    "def Insert(name, num1, num2, num3, num4):\n",
    "    global ef\n",
    "    ef.loc[len(ef)] = [name, num1, num2, num3, num4]\n",
    "    #ef.append(name, num1, num2, num3, num4)\n",
    "def Update(name, num1, num2, num3, num4):\n",
    "    global ef\n",
    "    ef.loc[ef.이름 == name,('수학', '영어','음악','체육')] = (num1, num2, num3, num4)\n",
    "def Delete(name):\n",
    "    global ef\n",
    "    #ef변수에 ef.이름이 '준수'가 아닌 값을 가져와서 ef에 할당(저장)\n",
    "    # ef = ef.loc[ef.이름 != '준수']\n",
    "    ef = ef.drop(index=ef.loc[ef.이름 == name].index)\n",
    "Insert('준수', 10, 20, 30, 40)\n",
    "print(ef)\n",
    "print('-------------')\n",
    "Update('준수',100,90,80,70)\n",
    "print(ef)\n",
    "print('-------------')\n",
    "Delete('준수')\n",
    "print(ef)\n",
    "        "
   ]
  },
  {
   "cell_type": "code",
   "execution_count": 76,
   "id": "e281bc48-2fc5-4c1b-a4f8-3039ce34a145",
   "metadata": {},
   "outputs": [
    {
     "name": "stdout",
     "output_type": "stream",
     "text": [
      "10\n",
      "20\n",
      "20\n"
     ]
    }
   ],
   "source": [
    "#1.함수(메서드) 개념\n",
    "#함수 : 재활용이 가능한 코드의 집합 = 메서드\n",
    "#2.전역변수, 지역변수\n",
    "#전역변수 : 여러 메서드들이 사용할 수 있는 변수\n",
    "#지역변수 : 메서드 안에서만 존재하는 변수\n",
    "a=10\n",
    "#메서드\n",
    "def test():\n",
    "    global a #-> 전역변수 a를 가져옴.\n",
    "    a=20\n",
    "    print(a) #->지역변수\n",
    "print(a)\n",
    "test()\n",
    "print(a) #->전역변수"
   ]
  },
  {
   "cell_type": "code",
   "execution_count": null,
   "id": "d1ff8920-6ff3-4faa-bdde-7384dbf516d7",
   "metadata": {},
   "outputs": [],
   "source": []
  }
 ],
 "metadata": {
  "kernelspec": {
   "display_name": "Python 3 (ipykernel)",
   "language": "python",
   "name": "python3"
  },
  "language_info": {
   "codemirror_mode": {
    "name": "ipython",
    "version": 3
   },
   "file_extension": ".py",
   "mimetype": "text/x-python",
   "name": "python",
   "nbconvert_exporter": "python",
   "pygments_lexer": "ipython3",
   "version": "3.9.0"
  }
 },
 "nbformat": 4,
 "nbformat_minor": 5
}
