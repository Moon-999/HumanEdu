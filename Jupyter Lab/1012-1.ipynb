{
 "cells": [
  {
   "cell_type": "code",
   "execution_count": 1,
   "id": "bcad32d5-1102-4cc6-b8ef-9d4621f6edf7",
   "metadata": {},
   "outputs": [],
   "source": [
    "import pandas as pd"
   ]
  },
  {
   "cell_type": "code",
   "execution_count": null,
   "id": "2828f1ae-1b0a-4ea7-97ae-42aa8e2f1f46",
   "metadata": {},
   "outputs": [],
   "source": [
    "#회원가입 만들기\n",
    "#1. id, pw, name 변수의 값을 저장하는 데이터 프레임을 만드시오\n",
    "# dataFrame()으로 df변수 만들어서 안에 컬럼(id, pw, name)넣기\n",
    "#2. id, pw, name 값을 받고, df(데이터프레임)에 저장하는 기능 구현\n",
    "#3. id값을 찾아서 같은 id값이면  '같은 아이디가 있습니다.' 출력하는 메서드 구현\n",
    "# if 문으로 id값 같은지 찾은 뒤, 문자열 출력\n",
    "#4. id값을 찾아서 그 row의 pw값을 변경하는 메서드 구현\n",
    "# 어제 Update 메서드 참고하기"
   ]
  },
  {
   "cell_type": "code",
   "execution_count": 54,
   "id": "b0f9601c-8e30-4109-b1cc-886f7a59017e",
   "metadata": {},
   "outputs": [],
   "source": [
    "global df\n",
    "df = pd.DataFrame(index=range(0,0), columns = ['id', 'pw', 'name'])"
   ]
  },
  {
   "cell_type": "code",
   "execution_count": 58,
   "id": "023debb7-9f33-4402-a3b4-bd73e38b9732",
   "metadata": {},
   "outputs": [],
   "source": [
    "def Insert(): \n",
    "    global df\n",
    "    input_id = input('id: ')\n",
    "    input_pw = input('pw: ')\n",
    "    input_name = input('name: ')\n",
    "    #df.append(id,pw,name)\n",
    "    if (df.id == input_id).any() or (df.name == input_name).any():\n",
    "        #all()은 값이 동일한 것이 존재하는지 확인 -> 한개라도 존재하면 true\n",
    "        #any()는 값이 존재하는지 확인\n",
    "        print(\"같은 아이디 혹은 이름이 있습니다.\")\n",
    "    else:\n",
    "        df.loc[len(df)] = [input_id, input_pw, input_name]\n",
    "\n",
    "def Update():\n",
    "    global df\n",
    "    id1 = input('id: ')\n",
    "    pw = input('pw: ')\n",
    "    name = input('name: ')\n",
    "    df.loc[df.id == id1, ('pw', 'name')] = (pw , name)"
   ]
  },
  {
   "cell_type": "code",
   "execution_count": 59,
   "id": "2f4317c8-370f-4ac6-926a-b2caa2b03e40",
   "metadata": {},
   "outputs": [
    {
     "name": "stdout",
     "output_type": "stream",
     "text": [
      "Empty DataFrame\n",
      "Columns: [id, pw, name]\n",
      "Index: []\n"
     ]
    }
   ],
   "source": [
    "print(df)"
   ]
  },
  {
   "cell_type": "code",
   "execution_count": 73,
   "id": "4434dd2c-ccd5-42ba-85f9-4c9a063c6c40",
   "metadata": {},
   "outputs": [
    {
     "name": "stdin",
     "output_type": "stream",
     "text": [
      "id:  dog\n",
      "pw:  4567\n",
      "name:  정슬기\n"
     ]
    }
   ],
   "source": [
    "Insert()"
   ]
  },
  {
   "cell_type": "code",
   "execution_count": 68,
   "id": "89eed290-88c9-412c-bd1d-75f2d4318888",
   "metadata": {},
   "outputs": [
    {
     "name": "stdout",
     "output_type": "stream",
     "text": [
      "     id    pw name\n",
      "0  moon  1234  정문희\n",
      "1   sun  9876  김택선\n"
     ]
    }
   ],
   "source": [
    "print(df)"
   ]
  },
  {
   "cell_type": "code",
   "execution_count": 84,
   "id": "7dfb4319-a968-45ff-aade-0c4f111a9230",
   "metadata": {},
   "outputs": [
    {
     "name": "stdout",
     "output_type": "stream",
     "text": [
      "     pw name\n",
      "0  1234  정문희\n",
      "1  9876  김택선\n",
      "2  3456  김시연\n",
      "3  4567  정슬기\n",
      "-------------\n",
      "    id    pw\n",
      "1  sun  9876\n",
      "2  gom  3456\n",
      "3  dog  4567\n"
     ]
    }
   ],
   "source": [
    "print(df.iloc[:,1:3]) #iloc[row, column]\n",
    "print('-------------')\n",
    "print(df.iloc[1:,:-1])"
   ]
  }
 ],
 "metadata": {
  "kernelspec": {
   "display_name": "Python 3 (ipykernel)",
   "language": "python",
   "name": "python3"
  },
  "language_info": {
   "codemirror_mode": {
    "name": "ipython",
    "version": 3
   },
   "file_extension": ".py",
   "mimetype": "text/x-python",
   "name": "python",
   "nbconvert_exporter": "python",
   "pygments_lexer": "ipython3",
   "version": "3.9.0"
  }
 },
 "nbformat": 4,
 "nbformat_minor": 5
}
